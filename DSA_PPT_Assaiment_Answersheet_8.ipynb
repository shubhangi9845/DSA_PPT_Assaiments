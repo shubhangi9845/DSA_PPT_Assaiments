{
 "cells": [
  {
   "cell_type": "markdown",
   "id": "b5e03b72",
   "metadata": {},
   "source": [
    "Given two strings s1 and s2, return *the lowest **ASCII** sum of deleted characters to make two strings equal*.\n",
    "\n",
    "**Example 1:**\n",
    "\n",
    "**Input:** s1 = \"sea\", s2 = \"eat\"\n",
    "\n",
    "**Output:** 231\n",
    "\n",
    "**Explanation:** Deleting \"s\" from \"sea\" adds the ASCII value of \"s\" (115) to the sum.\n",
    "\n",
    "Deleting \"t\" from \"eat\" adds 116 to the sum.\n",
    "\n",
    "At the end, both strings are equal, and 115 + 116 = 231 is the minimum sum possible to achieve this."
   ]
  },
  {
   "cell_type": "code",
   "execution_count": 1,
   "id": "0f01faca",
   "metadata": {},
   "outputs": [],
   "source": [
    "def minimumDeleteSum(s1, s2):\n",
    "    m, n = len(s1), len(s2)\n",
    "    dp = [[0] * (n+1) for _ in range(m+1)]\n",
    "    \n",
    "    for i in range(m):\n",
    "        dp[i+1][0] = dp[i][0] + ord(s1[i])\n",
    "    \n",
    "    for j in range(n):\n",
    "        dp[0][j+1] = dp[0][j] + ord(s2[j])\n",
    "    \n",
    "    for i in range(m):\n",
    "        for j in range(n):\n",
    "            if s1[i] == s2[j]:\n",
    "                dp[i+1][j+1] = dp[i][j]\n",
    "            else:\n",
    "                dp[i+1][j+1] = min(dp[i+1][j] + ord(s2[j]), dp[i][j+1] + ord(s1[i]))\n",
    "    \n",
    "    return dp[m][n]"
   ]
  },
  {
   "cell_type": "code",
   "execution_count": 2,
   "id": "9cd72d54",
   "metadata": {},
   "outputs": [
    {
     "name": "stdout",
     "output_type": "stream",
     "text": [
      "231\n"
     ]
    }
   ],
   "source": [
    "s1 = \"sea\"\n",
    "s2 = \"eat\"\n",
    "result = minimumDeleteSum(s1, s2)\n",
    "print(result) "
   ]
  },
  {
   "cell_type": "markdown",
   "id": "09c1513f",
   "metadata": {},
   "source": [
    "💡 **Question 2**\n",
    "\n",
    "Given a string s containing only three types of characters: '(', ')' and '*', return true *if* s *is **valid***.\n",
    "\n",
    "The following rules define a **valid** string:\n",
    "\n",
    "- Any left parenthesis '(' must have a corresponding right parenthesis ')'.\n",
    "- Any right parenthesis ')' must have a corresponding left parenthesis '('.\n",
    "- Left parenthesis '(' must go before the corresponding right parenthesis ')'.\n",
    "- '*' could be treated as a single right parenthesis ')' or a single left parenthesis '(' or an empty string \"\".\n",
    "\n",
    "**Example 1:**\n",
    "\n",
    "**Input:** s = \"()\"\n",
    "\n",
    "**Output:**\n",
    "\n",
    "true\n",
    "\n",
    "</aside>"
   ]
  },
  {
   "cell_type": "code",
   "execution_count": 3,
   "id": "d74d9396",
   "metadata": {},
   "outputs": [],
   "source": [
    "def isValid(s):\n",
    "    stack = []\n",
    "    star_stack = []\n",
    "    \n",
    "    for char in s:\n",
    "        if char == '(':\n",
    "            stack.append(char)\n",
    "            star_stack.append(len(stack) - 1)\n",
    "        elif char == ')':\n",
    "            if stack:\n",
    "                stack.pop()\n",
    "                if star_stack:\n",
    "                    star_stack.pop()\n",
    "                else:\n",
    "                    stack.append(char)\n",
    "            else:\n",
    "                return False\n",
    "        elif char == '*':\n",
    "            stack.append(char)\n",
    "            star_stack.append(len(stack) - 1)\n",
    "            \n",
    "            \n",
    "    while stack and star_stack:\n",
    "        if stack.pop() > star_stack.pop():\n",
    "            return False\n",
    "    \n",
    "    return len(stack) == 0"
   ]
  },
  {
   "cell_type": "code",
   "execution_count": 4,
   "id": "69981c1f",
   "metadata": {},
   "outputs": [
    {
     "name": "stdout",
     "output_type": "stream",
     "text": [
      "True\n"
     ]
    }
   ],
   "source": [
    "s = \"()\"  \n",
    "result = isValid(s)\n",
    "print(result)"
   ]
  },
  {
   "cell_type": "markdown",
   "id": "2cbb9d59",
   "metadata": {},
   "source": [
    "💡 **Question 3**\n",
    "\n",
    "Given two strings word1 and word2, return *the minimum number of **steps** required to make* word1 *and* word2 *the same*.\n",
    "\n",
    "In one **step**, you can delete exactly one character in either string.\n",
    "\n",
    "**Example 1:**\n",
    "\n",
    "**Input:** word1 = \"sea\", word2 = \"eat\"\n",
    "\n",
    "**Output:** 2\n",
    "\n",
    "**Explanation:** You need one step to make \"sea\" to \"ea\" and another step to make \"eat\" to \"ea\".\n",
    "\n",
    "</aside>"
   ]
  },
  {
   "cell_type": "code",
   "execution_count": 6,
   "id": "dace9774",
   "metadata": {},
   "outputs": [],
   "source": [
    "def minSteps(word1, word2):\n",
    "    m, n = len(word1), len(word2)\n",
    "    \n",
    "    # Create a 2D table to store the lengths of LCS\n",
    "    dp = [[0] * (n + 1) for _ in range(m + 1)]\n",
    "    \n",
    "    # Fill the table using dynamic programming\n",
    "    for i in range(1, m + 1):\n",
    "        for j in range(1, n + 1):\n",
    "            if word1[i - 1] == word2[j - 1]:\n",
    "                dp[i][j] = dp[i - 1][j - 1] + 1\n",
    "            else:\n",
    "                dp[i][j] = max(dp[i - 1][j], dp[i][j - 1])\n",
    "    # Fill the table using dynamic programming\n",
    "    for i in range(1, m + 1):\n",
    "        for j in range(1, n + 1):\n",
    "            if word1[i - 1] == word2[j - 1]:\n",
    "                dp[i][j] = dp[i - 1][j - 1] + 1\n",
    "            else:\n",
    "                dp[i][j] = max(dp[i - 1][j], dp[i][j - 1])\n",
    "    \n",
    "    # Calculate the minimum number of steps\n",
    "    lcs_length = dp[m][n]\n",
    "    min_steps = m + n - 2 * lcs_length\n",
    "    \n",
    "    return min_steps\n",
    "    "
   ]
  },
  {
   "cell_type": "code",
   "execution_count": 7,
   "id": "f4bd2ea8",
   "metadata": {},
   "outputs": [
    {
     "name": "stdout",
     "output_type": "stream",
     "text": [
      "2\n"
     ]
    }
   ],
   "source": [
    "word1 = \"sea\" \n",
    "word2 = \"eat\"  \n",
    "result = minSteps(word1, word2)\n",
    "print(result) "
   ]
  },
  {
   "cell_type": "code",
   "execution_count": 9,
   "id": "0ae03b8e",
   "metadata": {},
   "outputs": [],
   "source": [
    "class TreeNode:\n",
    "    def __init__(self, val=0, left=None, right=None):\n",
    "        self.val = val\n",
    "        self.left = left\n",
    "        self.right = right\n",
    "\n",
    "def str2tree(s):\n",
    "    if not s:\n",
    "        return None\n",
    "\n",
    "    # Find the value of the root node\n",
    "    val_end = s.find('(')\n",
    "    if val_end == -1:\n",
    "        val_end = len(s)\n",
    "    val = int(s[:val_end])\n",
    "    \n",
    "# Find the value of the root node\n",
    "    val_end = s.find('(')\n",
    "    if val_end == -1:\n",
    "        val_end = len(s)\n",
    "    val = int(s[:val_end])\n",
    "\n",
    "    # Create the root node\n",
    "    root = TreeNode(val)\n",
    " # Find the substring for the left child and right child\n",
    "    start = val_end\n",
    "    count = 0\n",
    "    for i in range(start, len(s)):\n",
    "        if s[i] == '(':\n",
    "            count += 1\n",
    "        elif s[i] == ')':\n",
    "            count -= 1\n",
    "        if count == 0 and start == val_end:\n",
    "            root.left = str2tree(s[start + 1:i])\n",
    "            start = i + 1\n",
    "        elif count == 0:\n",
    "            root.right = str2tree(s[start + 1:i])\n",
    "\n",
    "    return root\n",
    "\n",
    "\n",
    "def inorder_traversal(root):\n",
    "    if root is None:\n",
    "        return []\n",
    "    return inorder_traversal(root.left) + [root.val] + inorder_traversal(root.right)"
   ]
  },
  {
   "cell_type": "code",
   "execution_count": 10,
   "id": "0b9f87d7",
   "metadata": {},
   "outputs": [
    {
     "name": "stdout",
     "output_type": "stream",
     "text": [
      "[3, 2, 1, 4, 5, 6]\n"
     ]
    }
   ],
   "source": [
    "s = \"4(2(3)(1))(6(5))\"\n",
    "root = str2tree(s)\n",
    "result = inorder_traversal(root)\n",
    "print(result)"
   ]
  },
  {
   "cell_type": "markdown",
   "id": "eb2f10d5",
   "metadata": {},
   "source": [
    "💡 **Question 4**\n",
    "\n",
    "You need to construct a binary tree from a string consisting of parenthesis and integers.\n",
    "\n",
    "The whole input represents a binary tree. It contains an integer followed by zero, one or two pairs of parenthesis. The integer represents the root's value and a pair of parenthesis contains a child binary tree with the same structure.\n",
    "You always start to construct the **left** child node of the parent first if it exists.\n",
    "\n",
    "</aside>"
   ]
  },
  {
   "cell_type": "markdown",
   "id": "62d69721",
   "metadata": {},
   "source": [
    "💡 **Question 5**\n",
    "\n",
    "Given an array of characters chars, compress it using the following algorithm:\n",
    "\n",
    "Begin with an empty string s. For each group of **consecutive repeating characters** in chars:\n",
    "\n",
    "- If the group's length is 1, append the character to s.\n",
    "- Otherwise, append the character followed by the group's length.\n",
    "\n",
    "The compressed string s **should not be returned separately**, but instead, be stored **in the input character array chars**. Note that group lengths that are 10 or longer will be split into multiple characters in chars.\n",
    "\n",
    "After you are done **modifying the input array,** return *the new length of the array*.\n",
    "\n",
    "You must write an algorithm that uses only constant extra space.\n",
    "\n",
    "**Example 1:**\n",
    "\n",
    "**Input:** chars = [\"a\",\"a\",\"b\",\"b\",\"c\",\"c\",\"c\"]\n",
    "\n",
    "**Output:** Return 6, and the first 6 characters of the input array should be: [\"a\",\"2\",\"b\",\"2\",\"c\",\"3\"]\n",
    "\n",
    "**Explanation:**\n",
    "\n",
    "The groups are \"aa\", \"bb\", and \"ccc\". This compresses to \"a2b2c3\".\n",
    "\n",
    "</aside>"
   ]
  },
  {
   "cell_type": "code",
   "execution_count": 11,
   "id": "ff4b238e",
   "metadata": {},
   "outputs": [],
   "source": [
    "def compress(chars):\n",
    "    count = 1\n",
    "    pos = 0\n",
    "    for i in range(1, len(chars) + 1):\n",
    "        if i < len(chars) and chars[i] == chars[i-1]:\n",
    "            count += 1\n",
    "        else:\n",
    "            chars[pos] = chars[i-1]\n",
    "            pos += 1\n",
    "            if count > 1:\n",
    "                count_str = str(count)\n",
    "                for digit in count_str:\n",
    "                    chars[pos] = digit\n",
    "                    pos += 1\n",
    "            count = 1\n",
    "    return pos"
   ]
  },
  {
   "cell_type": "code",
   "execution_count": 12,
   "id": "87205eb9",
   "metadata": {},
   "outputs": [
    {
     "name": "stdout",
     "output_type": "stream",
     "text": [
      "6\n",
      "['a', '2', 'b', '2', 'c', '3']\n"
     ]
    }
   ],
   "source": [
    "chars = [\"a\", \"a\", \"b\", \"b\", \"c\", \"c\", \"c\"]\n",
    "new_length = compress(chars)\n",
    "print(new_length)  \n",
    "print(chars[:new_length]) "
   ]
  },
  {
   "cell_type": "markdown",
   "id": "c015499b",
   "metadata": {},
   "source": [
    "💡 **Question 6**\n",
    "\n",
    "Given two strings s and p, return *an array of all the start indices of* p*'s anagrams in* s. You may return the answer in **any order**.\n",
    "\n",
    "An **Anagram** is a word or phrase formed by rearranging the letters of a different word or phrase, typically using all the original letters exactly once.\n",
    "\n",
    "**Example 1:**\n",
    "\n",
    "**Input:** s = \"cbaebabacd\", p = \"abc\"\n",
    "\n",
    "**Output:** [0,6]\n",
    "\n",
    "**Explanation:**\n",
    "\n",
    "The substring with start index = 0 is \"cba\", which is an anagram of \"abc\".\n",
    "\n",
    "The substring with start index = 6 is \"bac\", which is an anagram of \"abc\".\n",
    "\n",
    "</aside>"
   ]
  },
  {
   "cell_type": "code",
   "execution_count": 13,
   "id": "1a0c535f",
   "metadata": {},
   "outputs": [],
   "source": [
    "from collections import Counter\n",
    "\n",
    "def findAnagrams(s, p):\n",
    "    p_count = Counter(p)\n",
    "    window_count = Counter()\n",
    "    result = []\n",
    "    \n",
    "    for i in range(len(s)):\n",
    "        window_count[s[i]] += 1\n",
    "        if i >= len(p):\n",
    "            if window_count[s[i - len(p)]] == 1:\n",
    "                del window_count[s[i - len(p)]]\n",
    "            else:\n",
    "                window_count[s[i - len(p)]] -= 1\n",
    "        \n",
    "        if window_count == p_count:\n",
    "            result.append(i - len(p) + 1)\n",
    "    \n",
    "    return result"
   ]
  },
  {
   "cell_type": "code",
   "execution_count": 14,
   "id": "3c0445e7",
   "metadata": {},
   "outputs": [
    {
     "name": "stdout",
     "output_type": "stream",
     "text": [
      "[0, 6]\n"
     ]
    }
   ],
   "source": [
    "s = \"cbaebabacd\"\n",
    "p = \"abc\"\n",
    "indices = findAnagrams(s, p)\n",
    "print(indices)"
   ]
  },
  {
   "cell_type": "markdown",
   "id": "ffd0e889",
   "metadata": {},
   "source": [
    "💡 **Question 7**\n",
    "\n",
    "Given an encoded string, return its decoded string.\n",
    "\n",
    "The encoding rule is: k[encoded_string], where the encoded_string inside the square brackets is being repeated exactly k times. Note that k is guaranteed to be a positive integer.\n",
    "\n",
    "You may assume that the input string is always valid; there are no extra white spaces, square brackets are well-formed, etc. Furthermore, you may assume that the original data does not contain any digits and that digits are only for those repeat numbers, k. For example, there will not be input like 3a or 2[4].\n",
    "\n",
    "The test cases are generated so that the length of the output will never exceed 105.\n",
    "\n",
    "**Example 1:**\n",
    "\n",
    "**Input:** s = \"3[a]2[bc]\"\n",
    "\n",
    "**Output:** \"aaabcbc\"\n",
    "\n",
    "</aside>"
   ]
  },
  {
   "cell_type": "code",
   "execution_count": 15,
   "id": "0f2835ec",
   "metadata": {},
   "outputs": [],
   "source": [
    "def decodeString(s):\n",
    "    stack = []\n",
    "    result = \"\"\n",
    "    repetition_count = 0\n",
    "    \n",
    "    for char in s:\n",
    "        if char.isdigit():\n",
    "            repetition_count = repetition_count * 10 + int(char)\n",
    "        elif char == \"[\":\n",
    "            stack.append((result, repetition_count))\n",
    "            result = \"\"\n",
    "            repetition_count = 0\n",
    "        elif char == \"]\":\n",
    "            prev_result, prev_repetition_count = stack.pop()\n",
    "            result = prev_result + result * prev_repetition_count\n",
    "        else:\n",
    "            result += char\n",
    "    \n",
    "    return result"
   ]
  },
  {
   "cell_type": "code",
   "execution_count": 16,
   "id": "e16a6029",
   "metadata": {},
   "outputs": [
    {
     "name": "stdout",
     "output_type": "stream",
     "text": [
      "aaabcbc\n"
     ]
    }
   ],
   "source": [
    "s = \"3[a]2[bc]\"\n",
    "decoded_string = decodeString(s)\n",
    "print(decoded_string) "
   ]
  },
  {
   "cell_type": "markdown",
   "id": "f7999db2",
   "metadata": {},
   "source": [
    "💡 **Question 8**\n",
    "\n",
    "Given two strings s and goal, return true *if you can swap two letters in* s *so the result is equal to* goal*, otherwise, return* false*.*\n",
    "\n",
    "Swapping letters is defined as taking two indices i and j (0-indexed) such that i != j and swapping the characters at s[i] and s[j].\n",
    "\n",
    "- For example, swapping at indices 0 and 2 in \"abcd\" results in \"cbad\".\n",
    "\n",
    "**Example 1:**\n",
    "\n",
    "**Input:** s = \"ab\", goal = \"ba\"\n",
    "\n",
    "**Output:** true\n",
    "\n",
    "**Explanation:** You can swap s[0] = 'a' and s[1] = 'b' to get \"ba\", which is equal to goal.\n",
    "\n",
    "</aside>"
   ]
  },
  {
   "cell_type": "code",
   "execution_count": 20,
   "id": "c891a2af",
   "metadata": {},
   "outputs": [],
   "source": [
    "def canSwapStrings(s, goal):\n",
    "    diff_s = []\n",
    "    diff_goal = []\n",
    "    \n",
    "    for i in range(len(s)):\n",
    "        if s[i] != goal[i]:\n",
    "            diff_s.append((s[i], i))\n",
    "            diff_goal.append((goal[i], i))\n",
    "            if len(diff_s) > 2:\n",
    "                return False\n",
    "    \n",
    "    if len(diff_s) == 0:\n",
    "        return True\n",
    "    \n",
    "    if len(diff_s) != 2:\n",
    "        return False\n",
    "    \n",
    "    return s[diff_s[0][1]] == goal[diff_s[1][1]] and s[diff_s[1][1]] == goal[diff_s[0][1]]"
   ]
  },
  {
   "cell_type": "code",
   "execution_count": 21,
   "id": "22aafa8c",
   "metadata": {},
   "outputs": [
    {
     "name": "stdout",
     "output_type": "stream",
     "text": [
      "True\n"
     ]
    }
   ],
   "source": [
    "s = \"ab\"\n",
    "goal = \"ba\"\n",
    "result = canSwapStrings(s, goal)\n",
    "print(result)"
   ]
  },
  {
   "cell_type": "code",
   "execution_count": null,
   "id": "eb4ce7d8",
   "metadata": {},
   "outputs": [],
   "source": []
  }
 ],
 "metadata": {
  "kernelspec": {
   "display_name": "Python 3 (ipykernel)",
   "language": "python",
   "name": "python3"
  },
  "language_info": {
   "codemirror_mode": {
    "name": "ipython",
    "version": 3
   },
   "file_extension": ".py",
   "mimetype": "text/x-python",
   "name": "python",
   "nbconvert_exporter": "python",
   "pygments_lexer": "ipython3",
   "version": "3.9.12"
  }
 },
 "nbformat": 4,
 "nbformat_minor": 5
}
