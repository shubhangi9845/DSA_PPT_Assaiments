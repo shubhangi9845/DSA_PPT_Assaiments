{
 "cells": [
  {
   "cell_type": "markdown",
   "id": "44091150",
   "metadata": {},
   "source": [
    "#Q1.Given an integer array nums of 2n integers, group these integers into n pairs (a1, b1), (a2, b2),\n",
    "#..., (an, bn) such that the sum of min(ai, bi) for all i is maximized. Return the maximized sum."
   ]
  },
  {
   "cell_type": "markdown",
   "id": "77c02d4e",
   "metadata": {},
   "source": [
    "Example 1:\n",
    "Input: nums = [1,4,3,2]\n",
    "Output: 4\n",
    "Explanation: All possible pairings (ignoring the ordering of elements) are:\n",
    "1. (1, 4), (2, 3) -> min(1, 4) + min(2, 3) = 1 + 2 = 3\n",
    "2. (1, 3), (2, 4) -> min(1, 3) + min(2, 4) = 1 + 2 = 3\n",
    "3. (1, 2), (3, 4) -> min(1, 2) + min(3, 4) = 1 + 3 = 4\n",
    "So the maximum possible sum is 4"
   ]
  },
  {
   "cell_type": "markdown",
   "id": "98c878f5",
   "metadata": {},
   "source": [
    "Algoritham:\n",
    "Target is sum(min(a1, b1), min(a2, b2), ... , min(an, bn)). \n",
    "\n",
    "The best order in given array is a1 < b1 < a2 < b2 < ... < an < bn.\n",
    "\n",
    "As a result, we sort the input array firstly.\n",
    "\n",
    "Then, add values at odd index of sorted array."
   ]
  },
  {
   "cell_type": "code",
   "execution_count": 1,
   "id": "8db247f7",
   "metadata": {},
   "outputs": [],
   "source": [
    "class Solution(object):\n",
    "    def arrayPairSum(self, nums):\n",
    "        \"\"\"\n",
    "        :type nums: List[int]\n",
    "        :rtype: int\n",
    "        \"\"\"\n",
    "        nums.sort()\n",
    "        result = 0\n",
    "        numsLen = len(nums)\n",
    "        for i in range(0, numsLen - 1, 2):\n",
    "            result += nums[i]\n",
    "        return result"
   ]
  },
  {
   "cell_type": "markdown",
   "id": "fa60df1c",
   "metadata": {},
   "source": [
    "Time Complexity: O(n log_n), N is length of the input array\n",
    "Space Complexity: O(1)"
   ]
  },
  {
   "cell_type": "markdown",
   "id": "cb3f7933",
   "metadata": {},
   "source": [
    "Q2.Alice has n candies, where the ith candy is of type candyType[i]. Alice noticed that she started\n",
    "to gain weight, so she visited a doctor.\n",
    "The doctor advised Alice to only eat n / 2 of the candies she has (n is always even). Alice\n",
    "likes her candies very much, and she wants to eat the maximum number of different types of\n",
    "candies while still following the doctor's advice.\n",
    "Given the integer array candyType of length n, return the maximum number of different types\n",
    "of candies she can eat if she only eats n / 2 of them.\n"
   ]
  },
  {
   "cell_type": "markdown",
   "id": "57e124fc",
   "metadata": {},
   "source": [
    " Algoritham:\n",
    " If the number of unique candies is less than or equal to half the length of candyType, then Alice can eat one of each type of candy and the answer is equal to the number of unique candies.\n",
    "Otherwise, the number of candies she can eat is limited to half the length of candyType, and so the answer is equal to half the length of candyType."
   ]
  },
  {
   "cell_type": "markdown",
   "id": "23e0b7c1",
   "metadata": {},
   "source": [
    "Example 1:\n",
    "Input: candyType = [1,1,2,2,3,3]\n",
    "Output: 3\n",
    "Explanation: Alice can only eat 6 / 2 = 3 candies. Since there are only 3 types, she can eat one\n",
    "of each type."
   ]
  },
  {
   "cell_type": "code",
   "execution_count": 21,
   "id": "a8493f52",
   "metadata": {},
   "outputs": [],
   "source": [
    "def max_candies(candyType):\n",
    "    n = len(candyType)\n",
    "    max_candies_count = n // 2 \n",
    "\n",
    "    unique_candies = set() \n",
    "\n",
    "    # Iterate over the candy types\n",
    "    for candy in candyType:\n",
    "        if candy not in unique_candies:\n",
    "            unique_candies.add(candy)\n",
    "            \n",
    "            # If Alice has eaten the maximum number of candy types, break the loop\n",
    "            if len(unique_candies) == max_candies_count:\n",
    "                break\n",
    "\n",
    "    return len(unique_candies)\n",
    "\n"
   ]
  },
  {
   "cell_type": "code",
   "execution_count": 22,
   "id": "2923f686",
   "metadata": {},
   "outputs": [
    {
     "name": "stdout",
     "output_type": "stream",
     "text": [
      "3\n"
     ]
    }
   ],
   "source": [
    "#Example\n",
    "candyType = [1, 1, 2, 2, 3, 3] \n",
    "max_candies_count = max_candies(candyType)\n",
    "print(max_candies_count)  "
   ]
  },
  {
   "cell_type": "markdown",
   "id": "890e5d1d",
   "metadata": {},
   "source": [
    "Q3.Wedefine a harmonious array as an array where the difference between its maximum value\n",
    " and its minimum value is exactly 1.\n",
    " Given an integer array nums, return the length of its longest harmonious subsequence\n",
    " among all its possible subsequences.\n",
    " Asubsequence of an array is a sequence that can be derived from the array by deleting some\n",
    " or no elements without changing the order of the remaining elements.\n",
    " Example 1:\n",
    " Input: nums = [1,3,2,2,5,2,3,7]\n",
    " Output: 5\n",
    " Explanation: The longest harmonious subsequence is [3,2,2,2,3]"
   ]
  },
  {
   "cell_type": "markdown",
   "id": "70502eb7",
   "metadata": {},
   "source": [
    "Algoritham: Array sort\n",
    "\n",
    "Because subsequence is out of order, we can sort the input array first. \n",
    "\n",
    "And the, use two pointers to find the longest subarray is harmonious."
   ]
  },
  {
   "cell_type": "code",
   "execution_count": 12,
   "id": "37bdbb96",
   "metadata": {},
   "outputs": [],
   "source": [
    "def funs(nums):\n",
    "    num_counts = {}  \n",
    "\n",
    "    # Count the occurrences of each number\n",
    "    for i in nums:\n",
    "        num_counts[i] = num_counts.get(i, 0) + 1\n",
    "\n",
    "    longest_subsequence_length = 0\n",
    "\n",
    "    # Iterate over the numbers in the dictionary\n",
    "    for i in num_counts:\n",
    "        if i + 1 in num_counts:\n",
    "            current_length = num_counts[i] + num_counts[i + 1]\n",
    "            longest_subsequence_length = max(longest_subsequence_length, current_length)\n",
    "\n",
    "    return longest_subsequence_length\n",
    "\n"
   ]
  },
  {
   "cell_type": "code",
   "execution_count": 13,
   "id": "accc1720",
   "metadata": {},
   "outputs": [
    {
     "name": "stdout",
     "output_type": "stream",
     "text": [
      "5\n"
     ]
    }
   ],
   "source": [
    "# Example:\n",
    "nums = [1, 3, 2, 2, 5, 2, 3, 7]  \n",
    "longest_subsequence_length = funs(nums)\n",
    "print(longest_subsequence_length) "
   ]
  },
  {
   "cell_type": "markdown",
   "id": "43a28f64",
   "metadata": {},
   "source": [
    "Q5.Given an integer array nums, find three numbers whose product is maximum and return the\n",
    " maximum product"
   ]
  },
  {
   "cell_type": "markdown",
   "id": "9657a7c2",
   "metadata": {},
   "source": [
    "Algoritham:\n",
    "1]Sort the nums array in ascending order.\n",
    "2] Update the maxProduct with\n",
    "max(nums[n-1] * nums[n-2] * nums[n-3], nums[0] * nums[1] * nums[n-1])"
   ]
  },
  {
   "cell_type": "code",
   "execution_count": 14,
   "id": "473234ce",
   "metadata": {},
   "outputs": [],
   "source": [
    "def maximumProduct(nums):\n",
    "    nums.sort()  \n",
    "\n",
    "    # Calculate the maximum product\n",
    "    n = len(nums)\n",
    "    max_product = max(nums[n-1] * nums[n-2] * nums[n-3], nums[0] * nums[1] * nums[n-1])\n",
    "\n",
    "    return max_product"
   ]
  },
  {
   "cell_type": "code",
   "execution_count": 15,
   "id": "1110d074",
   "metadata": {},
   "outputs": [
    {
     "name": "stdout",
     "output_type": "stream",
     "text": [
      "6\n"
     ]
    }
   ],
   "source": [
    "# Example :\n",
    "nums = [1,2,3]  \n",
    "max_product = maximumProduct(nums)\n",
    "print(max_product)  "
   ]
  },
  {
   "cell_type": "markdown",
   "id": "35af6966",
   "metadata": {},
   "source": [
    "Q6. Given an array of integers nums which is sorted in ascending order, and an integer target,\n",
    " write a function to search target in nums. If target exists, then return its index. Otherwise,\n",
    " return-1.\n",
    " You must write an algorithm with O(log n) runtime complexity"
   ]
  },
  {
   "cell_type": "markdown",
   "id": "dfd589ba",
   "metadata": {},
   "source": [
    "algorithm:\n",
    "    1]sort the array\n",
    "    2]the left pointer <= right pointer. Inside the loop, we calculate the middle index using the formula mid = left + (right - left) // 2\n",
    "    3] the middle index (nums[mid]) with the target value. If they are equal, we have found the target, and we return the index mid. If nums[mid] is < target, we update the left pointer to mid + 1 to search in the right half of the array. Otherwise, if nums[mid] is greater than the target, we update the right pointer to mid - 1 to search in the left half of the array."
   ]
  },
  {
   "cell_type": "code",
   "execution_count": 1,
   "id": "6c6d1c9c",
   "metadata": {},
   "outputs": [],
   "source": [
    "def binarySearch(nums, target):\n",
    "    left = 0\n",
    "    right = len(nums) - 1\n",
    "\n",
    "    while left <= right:\n",
    "        mid = left + (right - left) // 2\n",
    "\n",
    "        if nums[mid] == target:\n",
    "            return mid\n",
    "        elif nums[mid] < target:\n",
    "            left = mid + 1\n",
    "        else:\n",
    "            right = mid - 1\n",
    "\n",
    "    return -1\n"
   ]
  },
  {
   "cell_type": "code",
   "execution_count": 4,
   "id": "0838811b",
   "metadata": {},
   "outputs": [
    {
     "name": "stdout",
     "output_type": "stream",
     "text": [
      "3\n"
     ]
    }
   ],
   "source": [
    "#Example:\n",
    "nums = [ 3, 5, 9, 12, 15]  \n",
    "target = 9\n",
    "index = binarySearch(nums, target)\n",
    "print(index)  "
   ]
  },
  {
   "cell_type": "markdown",
   "id": "5e5c7029",
   "metadata": {},
   "source": [
    "Q7.An array is monotonic if it is either monotone increasing or monotone decreasing.\n",
    " An array nums is monotone increasing if for all i <= j, nums[i] <= nums[j]. An array nums is\n",
    " monotone decreasing if for all i <= j, nums[i] >= nums[j].\n",
    " Given an integer array nums, return true if the given array is monotonic, or false otherwise"
   ]
  },
  {
   "cell_type": "markdown",
   "id": "1d832c40",
   "metadata": {},
   "source": [
    "Algorithm:\n",
    "Find and store size of array using len()\n",
    "If the array has only one element return True\n",
    "check if all values in the array are continuously decreasing or continuously increasing\n",
    "If the condition is true, return True\n",
    "If the condition is not true, return False\n",
    "Declare an array with values\n",
    "Pass the array in the function\n",
    "Print the result"
   ]
  },
  {
   "cell_type": "code",
   "execution_count": 6,
   "id": "4e306a8a",
   "metadata": {},
   "outputs": [],
   "source": [
    "def isMonotonic(nums):\n",
    "    increasing = decreasing = True\n",
    "\n",
    "    for i in range(1, len(nums)):\n",
    "        if nums[i] < nums[i-1]:\n",
    "            increasing = False\n",
    "        if nums[i] > nums[i-1]:\n",
    "            decreasing = False\n",
    "\n",
    "    return increasing or decreasing\n"
   ]
  },
  {
   "cell_type": "code",
   "execution_count": 8,
   "id": "511be33c",
   "metadata": {},
   "outputs": [
    {
     "name": "stdout",
     "output_type": "stream",
     "text": [
      "True\n"
     ]
    }
   ],
   "source": [
    "#Example\n",
    "nums = [1, 2, 3, 4, 5]  \n",
    "is_mono = isMonotonic(nums)\n",
    "print(is_mono) \n"
   ]
  },
  {
   "cell_type": "markdown",
   "id": "ddd85f08",
   "metadata": {},
   "source": [
    "Q8.You are given an integer array nums and an integer k.\n",
    " In one operation, you can choose any index i where 0 <= i < nums.length and change nums[i]\n",
    " to nums[i] + x where x is an integer from the range [-k, k]. You can apply this operation at\n",
    " most once for each index i.\n",
    " The score of nums is the difference between the maximum and minimum elements in nums.\n",
    " Return the minimum score of nums after applying the mentioned operation at most once for\n",
    " each index in it."
   ]
  },
  {
   "cell_type": "markdown",
   "id": "280576cc",
   "metadata": {},
   "source": [
    "Algoritham:Initialize the minimum and maximum values as the first element of nums.\n",
    "Iterate over nums starting from the second element.\n",
    "For each element, update the minimum and maximum values by considering two scenarios:\n",
    "a. Adding k to the element and checking if it becomes the new maximum.\n",
    "b. Subtracting k from the element and checking if it becomes the new minimum.\n",
    "Calculate the difference between the updated maximum and minimum values and return it as the minimum score."
   ]
  },
  {
   "cell_type": "code",
   "execution_count": 17,
   "id": "93fa7654",
   "metadata": {},
   "outputs": [],
   "source": [
    "def minimumScore(nums, k):\n",
    "    minimum = maximum = nums[0]\n",
    "\n",
    "    for i in range(1, len(nums)):\n",
    "        maximum = max(maximum, nums[i] + k)\n",
    "        minimum = min(minimum, nums[i] - k)\n",
    "\n",
    "    score = maximum - minimum\n",
    "    return score\n"
   ]
  },
  {
   "cell_type": "code",
   "execution_count": 20,
   "id": "c2f65b8c",
   "metadata": {},
   "outputs": [
    {
     "name": "stdout",
     "output_type": "stream",
     "text": [
      "0\n"
     ]
    }
   ],
   "source": [
    "# Example usage:\n",
    "nums = [1]  \n",
    "k = 0\n",
    "min_score = minimumScore(nums, k)\n",
    "print(min_score) "
   ]
  },
  {
   "cell_type": "code",
   "execution_count": null,
   "id": "66f28c86",
   "metadata": {},
   "outputs": [],
   "source": []
  }
 ],
 "metadata": {
  "kernelspec": {
   "display_name": "Python 3 (ipykernel)",
   "language": "python",
   "name": "python3"
  },
  "language_info": {
   "codemirror_mode": {
    "name": "ipython",
    "version": 3
   },
   "file_extension": ".py",
   "mimetype": "text/x-python",
   "name": "python",
   "nbconvert_exporter": "python",
   "pygments_lexer": "ipython3",
   "version": "3.9.12"
  }
 },
 "nbformat": 4,
 "nbformat_minor": 5
}
