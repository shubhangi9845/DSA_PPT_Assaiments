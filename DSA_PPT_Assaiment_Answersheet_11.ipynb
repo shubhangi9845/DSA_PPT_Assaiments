{
 "cells": [
  {
   "cell_type": "markdown",
   "id": "0fa72fd3",
   "metadata": {},
   "source": [
    "Given a non-negative integer `x`, return *the square root of* `x` *rounded down to the nearest integer*. The returned integer should be **non-negative** as well.\n",
    "\n",
    "You **must not use** any built-in exponent function or operator.\n",
    "\n",
    "- For example, do not use `pow(x, 0.5)` in c++ or `x ** 0.5` in python."
   ]
  },
  {
   "cell_type": "code",
   "execution_count": 4,
   "id": "a009a17d",
   "metadata": {},
   "outputs": [],
   "source": [
    "def mySqrt(x):\n",
    "    if x == 0 or x == 1:\n",
    "        return x\n",
    "\n",
    "    left = 1\n",
    "    right = x // 2\n",
    "\n",
    "    while left < right:\n",
    "        mid = (left + right + 1) // 2\n",
    "        if mid * mid > x:\n",
    "            right = mid - 1\n",
    "        else:\n",
    "            left = mid\n",
    "\n",
    "    return left"
   ]
  },
  {
   "cell_type": "code",
   "execution_count": 5,
   "id": "4603691d",
   "metadata": {},
   "outputs": [
    {
     "name": "stdout",
     "output_type": "stream",
     "text": [
      "2\n"
     ]
    }
   ],
   "source": [
    "x = 8\n",
    "print(mySqrt(x))"
   ]
  },
  {
   "cell_type": "markdown",
   "id": "b9badc6c",
   "metadata": {},
   "source": [
    "Explanation: The square root of 8 is 2.82842..., and since we round it down to the nearest integer, 2 is returned."
   ]
  },
  {
   "cell_type": "markdown",
   "id": "4a7ed764",
   "metadata": {},
   "source": [
    "A peak element is an element that is strictly greater than its neighbors.\n",
    "\n",
    "Given a **0-indexed** integer array `nums`, find a peak element, and return its index. If the array contains multiple peaks, return the index to **any of the peaks**.\n",
    "\n",
    "You may imagine that `nums[-1] = nums[n] = -∞`. In other words, an element is always considered to be strictly greater than a neighbor that is outside the array.\n",
    "\n",
    "You must write an algorithm that runs in `O(log n)` time."
   ]
  },
  {
   "cell_type": "code",
   "execution_count": 10,
   "id": "dffd89b6",
   "metadata": {},
   "outputs": [],
   "source": [
    "def findPeakElement(nums):\n",
    "    left = 0\n",
    "    right = len(nums) - 1\n",
    "\n",
    "    while left < right:\n",
    "        mid = left + (right - left) // 2\n",
    "        if nums[mid] < nums[mid + 1]:\n",
    "            left = mid + 1\n",
    "        else:\n",
    "            right = mid\n",
    "\n",
    "    return left"
   ]
  },
  {
   "cell_type": "code",
   "execution_count": 11,
   "id": "9eecf1eb",
   "metadata": {},
   "outputs": [
    {
     "name": "stdout",
     "output_type": "stream",
     "text": [
      "2\n"
     ]
    }
   ],
   "source": [
    "nums = [1,2,3,1]\n",
    "print(findPeakElement(nums))\n"
   ]
  },
  {
   "cell_type": "markdown",
   "id": "5cb91d13",
   "metadata": {},
   "source": [
    "Explanation: 3 is a peak element and your function should return the index number 2."
   ]
  },
  {
   "cell_type": "code",
   "execution_count": 12,
   "id": "794e124d",
   "metadata": {},
   "outputs": [
    {
     "name": "stdout",
     "output_type": "stream",
     "text": [
      "5\n"
     ]
    }
   ],
   "source": [
    "nums = [1,2,1,3,5,6,4]\n",
    "print(findPeakElement(nums))\n"
   ]
  },
  {
   "cell_type": "markdown",
   "id": "07d1baac",
   "metadata": {},
   "source": [
    "Explanation: Your function can return either index number 1 where the peak element is 2, or index number 5 where the peak element is 6."
   ]
  },
  {
   "cell_type": "markdown",
   "id": "2cd4c09c",
   "metadata": {},
   "source": [
    "Given an array nums containing n distinct numbers in the range [0, n], return the only number in the range that is missing from the array."
   ]
  },
  {
   "cell_type": "code",
   "execution_count": 15,
   "id": "c30e4fe8",
   "metadata": {},
   "outputs": [],
   "source": [
    "def Number(nums):\n",
    "    n = len(nums)\n",
    "    missing = n\n",
    "\n",
    "    for i, num in enumerate(nums):\n",
    "        missing ^= i ^ num\n",
    "\n",
    "    return missing"
   ]
  },
  {
   "cell_type": "code",
   "execution_count": 16,
   "id": "e047e9a6",
   "metadata": {},
   "outputs": [
    {
     "name": "stdout",
     "output_type": "stream",
     "text": [
      "2\n"
     ]
    }
   ],
   "source": [
    "nums = [3, 0, 1]\n",
    "print(Number(nums))"
   ]
  },
  {
   "cell_type": "markdown",
   "id": "1624da5a",
   "metadata": {},
   "source": [
    "Explanation: n = 3 since there are 3 numbers, so all numbers are in the range [0,3]. 2 is the missing number in the range since it does not appear in nums."
   ]
  },
  {
   "cell_type": "code",
   "execution_count": null,
   "id": "9b8638cc",
   "metadata": {},
   "outputs": [],
   "source": []
  },
  {
   "cell_type": "markdown",
   "id": "04a93c1c",
   "metadata": {},
   "source": [
    "Given an array of integers `nums` containing `n + 1` integers where each integer is in the range `[1, n]` inclusive.\n",
    "\n",
    "There is only **one repeated number** in `nums`, return *this repeated number*.\n",
    "\n",
    "You must solve the problem **without** modifying the array `nums` and uses only constant extra space."
   ]
  },
  {
   "cell_type": "code",
   "execution_count": 17,
   "id": "f071ec92",
   "metadata": {},
   "outputs": [],
   "source": [
    "def Duplicate(nums):\n",
    "    # Finding the meeting point\n",
    "    slow = nums[0]\n",
    "    fast = nums[0]\n",
    "\n",
    "    while True:\n",
    "        slow = nums[slow]\n",
    "        fast = nums[nums[fast]]\n",
    "        if slow == fast:\n",
    "            break\n",
    "\n",
    "    #  Finding the start of the cycle\n",
    "    slow = nums[0]\n",
    "    while slow != fast:\n",
    "        slow = nums[slow]\n",
    "        fast = nums[fast]\n",
    "\n",
    "    return slow"
   ]
  },
  {
   "cell_type": "code",
   "execution_count": 18,
   "id": "4b1e84f0",
   "metadata": {},
   "outputs": [
    {
     "name": "stdout",
     "output_type": "stream",
     "text": [
      "2\n"
     ]
    }
   ],
   "source": [
    "nums = [1, 3, 4, 2, 2]\n",
    "print(Duplicate(nums))"
   ]
  },
  {
   "cell_type": "markdown",
   "id": "4ca760a9",
   "metadata": {},
   "source": [
    "Given two integer arrays nums1 and nums2, return an array of their intersection. Each element in the result must be unique and you may return the result in any order."
   ]
  },
  {
   "cell_type": "code",
   "execution_count": 19,
   "id": "697f6f91",
   "metadata": {},
   "outputs": [],
   "source": [
    "def intersection(nums1, nums2):\n",
    "    set1 = set(nums1)\n",
    "    set2 = set(nums2)\n",
    "    intersection_set = set1.intersection(set2)\n",
    "    intersection_list = list(intersection_set)\n",
    "    return intersection_list"
   ]
  },
  {
   "cell_type": "code",
   "execution_count": 20,
   "id": "e83a3571",
   "metadata": {},
   "outputs": [
    {
     "name": "stdout",
     "output_type": "stream",
     "text": [
      "[2]\n"
     ]
    }
   ],
   "source": [
    "nums1 = [1, 2, 2, 1]\n",
    "nums2 = [2, 2]\n",
    "print(intersection(nums1, nums2)) "
   ]
  },
  {
   "cell_type": "markdown",
   "id": "e464485d",
   "metadata": {},
   "source": [
    "Suppose an array of length `n` sorted in ascending order is **rotated** between `1` and `n` times. For example, the array `nums = [0,1,2,4,5,6,7]` might become:\n",
    "\n",
    "- `[4,5,6,7,0,1,2]` if it was rotated `4` times.\n",
    "- `[0,1,2,4,5,6,7]` if it was rotated `7` times.\n",
    "\n",
    "Notice that **rotating** an array `[a[0], a[1], a[2], ..., a[n-1]]` 1 time results in the array `[a[n-1], a[0], a[1], a[2], ..., a[n-2]]`.\n",
    "\n",
    "Given the sorted rotated array `nums` of **unique** elements, return *the minimum element of this array*.\n",
    "\n",
    "You must write an algorithm that runs in `O(log n) time.`"
   ]
  },
  {
   "cell_type": "markdown",
   "id": "c8f2afe2",
   "metadata": {},
   "source": [
    "Algorithm:\n",
    "Initialize two pointers, left and right, to the start and end indices of the array, respectively.\n",
    "\n",
    "Perform a binary search by repeatedly dividing the search space in half until left and right are adjacent.\n",
    "\n",
    "In each iteration, calculate the middle index mid as (left + right) // 2.\n",
    "\n",
    "Check if the element at index mid is greater than the element at index right. If true, it means the minimum element lies to the right of mid, so update left = mid + 1. Otherwise, the minimum element lies to the left or is equal to the element at mid, so update right = mid.\n",
    "\n",
    "Repeat steps 3-4 until left and right become adjacent.\n",
    "\n",
    "Return the element at index left as the minimum element."
   ]
  },
  {
   "cell_type": "code",
   "execution_count": 22,
   "id": "e83d62e6",
   "metadata": {},
   "outputs": [],
   "source": [
    "def findMin(nums):\n",
    "    left = 0\n",
    "    right = len(nums) - 1\n",
    "\n",
    "    while left < right:\n",
    "        mid = (left + right) // 2\n",
    "\n",
    "        if nums[mid] > nums[right]:\n",
    "            left = mid + 1\n",
    "        else:\n",
    "            right = mid\n",
    "\n",
    "    return nums[left]"
   ]
  },
  {
   "cell_type": "code",
   "execution_count": 23,
   "id": "59d73842",
   "metadata": {},
   "outputs": [
    {
     "name": "stdout",
     "output_type": "stream",
     "text": [
      "1\n"
     ]
    }
   ],
   "source": [
    "nums = [3,4,5,1,2]\n",
    "print(findMin(nums))"
   ]
  },
  {
   "cell_type": "markdown",
   "id": "6c77c73e",
   "metadata": {},
   "source": [
    "Given an array of integers `nums` sorted in non-decreasing order, find the starting and ending position of a given `target` value.\n",
    "\n",
    "If `target` is not found in the array, return `[-1, -1]`.\n",
    "\n",
    "You must write an algorithm with `O(log n)` runtime complexity."
   ]
  },
  {
   "cell_type": "markdown",
   "id": "a0294d0d",
   "metadata": {},
   "source": [
    "Algoritham:\n",
    "Initialize two variables, start and end, to store the starting and ending positions of the target value, respectively. Set them to -1 initially.\n",
    "Perform a binary search to find the leftmost occurrence of the target value. Initialize two pointers, left and right, to the start and end indices of the array, respectively.\n",
    "In each iteration, calculate the middle index mid as (left + right) // 2.\n",
    "If the element at index mid is equal to the target, update start = mid and move right to mid - 1 to search for a smaller index with the same value.\n",
    "If the element at index mid is greater than the target, update right = mid - 1.\n",
    "If the element at index mid is less than the target, update left = mid + 1.\n",
    "Repeat steps 3-6 until left becomes greater than right.\n",
    "Perform a binary search to find the rightmost occurrence of the target value. Initialize left to start and right to the end index of the array.\n",
    "Repeat steps 3-6, but this time update start and move left to mid + 1 to search for a larger index with the same value.\n",
    "Repeat steps 7-9 until left becomes greater than right."
   ]
  },
  {
   "cell_type": "code",
   "execution_count": 26,
   "id": "1d0977e6",
   "metadata": {},
   "outputs": [],
   "source": [
    "def searchRange(nums, target):\n",
    "    start = -1\n",
    "    end = -1\n",
    "\n",
    "    left = 0\n",
    "    right = len(nums) - 1\n",
    "\n",
    "    # Find leftmost occurrence of target\n",
    "    while left <= right:\n",
    "        mid = (left + right) // 2\n",
    "\n",
    "        if nums[mid] == target:\n",
    "            start = mid\n",
    "            right = mid - 1\n",
    "        elif nums[mid] > target:\n",
    "            right = mid - 1\n",
    "        else:\n",
    "            left = mid + 1\n",
    "    # Find rightmost occurrence of target\n",
    "    left = start\n",
    "    right = len(nums) - 1\n",
    "\n",
    "    while left <= right:\n",
    "        mid = (left + right) // 2\n",
    "\n",
    "        if nums[mid] == target:\n",
    "            end = mid\n",
    "            left = mid + 1\n",
    "        elif nums[mid] > target:\n",
    "            right = mid - 1\n",
    "        else:\n",
    "            left = mid + 1\n",
    "\n",
    "    return [start, end]"
   ]
  },
  {
   "cell_type": "code",
   "execution_count": 28,
   "id": "54dfc274",
   "metadata": {},
   "outputs": [
    {
     "name": "stdout",
     "output_type": "stream",
     "text": [
      "[3, 4]\n"
     ]
    }
   ],
   "source": [
    "nums = [5, 7, 7, 8, 8, 10]\n",
    "target = 8\n",
    "print(searchRange(nums, target)) "
   ]
  },
  {
   "cell_type": "markdown",
   "id": "aa5626a0",
   "metadata": {},
   "source": [
    "Given two integer arrays nums1 and nums2, return an array of their intersection. Each element in the result must appear as many times as it shows in both arrays and you may return the result in any order."
   ]
  },
  {
   "cell_type": "code",
   "execution_count": 29,
   "id": "4576fbd7",
   "metadata": {},
   "outputs": [],
   "source": [
    "def intersect(nums1, nums2):\n",
    "    freq_map = {}\n",
    "    \n",
    "    # Store frequency of elements in nums1\n",
    "    for num in nums1:\n",
    "        if num not in freq_map:\n",
    "            freq_map[num] = 1\n",
    "        else:\n",
    "            freq_map[num] += 1\n",
    "    \n",
    "    result = []\n",
    "    \n",
    "    # Find intersection with nums2\n",
    "    for num in nums2:\n",
    "        if num in freq_map and freq_map[num] > 0:\n",
    "            result.append(num)\n",
    "            freq_map[num] -= 1\n",
    "    \n",
    "    return result"
   ]
  },
  {
   "cell_type": "code",
   "execution_count": 30,
   "id": "ca39bf98",
   "metadata": {},
   "outputs": [
    {
     "name": "stdout",
     "output_type": "stream",
     "text": [
      "[2, 2]\n"
     ]
    }
   ],
   "source": [
    "nums1 = [1, 2, 2, 1]\n",
    "nums2 = [2, 2]\n",
    "print(intersect(nums1, nums2))"
   ]
  },
  {
   "cell_type": "code",
   "execution_count": null,
   "id": "9825a1ec",
   "metadata": {},
   "outputs": [],
   "source": []
  }
 ],
 "metadata": {
  "kernelspec": {
   "display_name": "Python 3 (ipykernel)",
   "language": "python",
   "name": "python3"
  },
  "language_info": {
   "codemirror_mode": {
    "name": "ipython",
    "version": 3
   },
   "file_extension": ".py",
   "mimetype": "text/x-python",
   "name": "python",
   "nbconvert_exporter": "python",
   "pygments_lexer": "ipython3",
   "version": "3.9.12"
  }
 },
 "nbformat": 4,
 "nbformat_minor": 5
}
