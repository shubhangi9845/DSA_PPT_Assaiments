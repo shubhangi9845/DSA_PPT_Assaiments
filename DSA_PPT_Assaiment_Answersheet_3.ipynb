{
 "cells": [
  {
   "cell_type": "markdown",
   "id": "66ae13ea",
   "metadata": {},
   "source": [
    "Question 1\n",
    "Given an integer array nums of length n and an integer target, find three integers\n",
    "in nums such that the sum is closest to the target.\n",
    "Return the sum of the three integers.\n",
    "\n",
    "You may assume that each input would have exactly one solution.\n",
    "\n",
    "Example 1:\n",
    "Input: nums = [-1,2,1,-4], target = 1\n",
    "Output: 2\n"
   ]
  },
  {
   "cell_type": "markdown",
   "id": "310f5245",
   "metadata": {},
   "source": [
    "Sort the array nums in ascending order.\n",
    "Initialize a variable closest_sum to keep track of the closest sum encountered so far. Set it to a large value initially.\n",
    "Iterate over the array nums from the first element up to the second-to-last element:\n",
    "Initialize two pointers, left and right, to the next element and the last element respectively.\n",
    "While left is less than right:\n",
    "Calculate the current sum as nums[i] + nums[left] + nums[right].\n",
    "If the absolute difference between the current sum and the target is smaller than the absolute difference between closest_sum and the target, update closest_sum with the current sum.\n",
    "If the current sum is less than the target, move left to the right by incrementing it.\n",
    "If the current sum is greater than the target, move right to the left by decrementing it."
   ]
  },
  {
   "cell_type": "code",
   "execution_count": 1,
   "id": "c79a8949",
   "metadata": {},
   "outputs": [],
   "source": [
    "def threeSumClosest(nums, target):\n",
    "    nums.sort()\n",
    "    closest_sum = float('inf')\n",
    "\n",
    "    for i in range(len(nums) - 2):\n",
    "        left = i + 1\n",
    "        right = len(nums) - 1\n",
    "\n",
    "        while left < right:\n",
    "            current_sum = nums[i] + nums[left] + nums[right]\n",
    "\n",
    "            if abs(current_sum - target) < abs(closest_sum - target):\n",
    "                closest_sum = current_sum\n",
    "\n",
    "            if current_sum < target:\n",
    "                left += 1\n",
    "            elif current_sum > target:\n",
    "                right -= 1\n",
    "            else:\n",
    "                return closest_sum\n",
    "\n",
    "    return closest_sum"
   ]
  },
  {
   "cell_type": "code",
   "execution_count": 2,
   "id": "78c88300",
   "metadata": {},
   "outputs": [
    {
     "name": "stdout",
     "output_type": "stream",
     "text": [
      "2\n"
     ]
    }
   ],
   "source": [
    "nums = [-1, 2, 1, -4]\n",
    "target = 1\n",
    "result = threeSumClosest(nums, target)\n",
    "print(result) "
   ]
  },
  {
   "cell_type": "markdown",
   "id": "a6cd93fd",
   "metadata": {},
   "source": [
    "Question 2\n",
    "Given an array nums of n integers, return an array of all the unique quadruplets\n",
    "[nums[a], nums[b], nums[c], nums[d]] such that:\n",
    "           ● 0 <= a, b, c, d < n\n",
    "           ● a, b, c, and d are distinct.\n",
    "           ● nums[a] + nums[b] + nums[c] + nums[d] == target\n",
    "\n",
    "You may return the answer in any order.\n",
    "\n",
    "Example 1:\n",
    "Input: nums = [1,0,-1,0,-2,2], target = 0\n",
    "Output: [[-2,-1,1,2],[-2,0,0,2],[-1,0,0,1]]"
   ]
  },
  {
   "cell_type": "code",
   "execution_count": 3,
   "id": "219230f7",
   "metadata": {},
   "outputs": [],
   "source": [
    "def fourSum(nums, target):\n",
    "    nums.sort()\n",
    "    result = []\n",
    "    n = len(nums)\n",
    "\n",
    "    for i in range(n - 3):\n",
    "        if i > 0 and nums[i] == nums[i - 1]:\n",
    "            continue\n",
    "\n",
    "        for j in range(i + 1, n - 2):\n",
    "            if j > i + 1 and nums[j] == nums[j - 1]:\n",
    "                continue\n",
    "\n",
    "            left = j + 1\n",
    "            right = n - 1\n",
    "\n",
    "            while left < right:\n",
    "                current_sum = nums[i] + nums[j] + nums[left] + nums[right]\n",
    "\n",
    "                if current_sum == target:\n",
    "                    result.append([nums[i], nums[j], nums[left], nums[right]])\n",
    "                    while left < right and nums[left] == nums[left + 1]:\n",
    "                        left += 1\n",
    "                    while left < right and nums[right] == nums[right - 1]:\n",
    "                        right -= 1\n",
    "\n",
    "                    left += 1\n",
    "                    right -= 1\n",
    "                elif current_sum < target:\n",
    "                    left += 1\n",
    "                else:\n",
    "                    right -= 1\n",
    "\n",
    "    return result"
   ]
  },
  {
   "cell_type": "code",
   "execution_count": 4,
   "id": "e8d049a1",
   "metadata": {},
   "outputs": [
    {
     "name": "stdout",
     "output_type": "stream",
     "text": [
      "[[-2, -1, 1, 2], [-2, 0, 0, 2], [-1, 0, 0, 1]]\n"
     ]
    }
   ],
   "source": [
    "nums = [1, 0, -1, 0, -2, 2]\n",
    "target = 0\n",
    "result = fourSum(nums, target)\n",
    "print(result) "
   ]
  },
  {
   "cell_type": "markdown",
   "id": "8480e9f3",
   "metadata": {},
   "source": [
    "\n",
    "Question 3\n",
    "A permutation of an array of integers is an arrangement of its members into a\n",
    "sequence or linear order.\n",
    "\n",
    "For example, for arr = [1,2,3], the following are all the permutations of arr:\n",
    "[1,2,3], [1,3,2], [2, 1, 3], [2, 3, 1], [3,1,2], [3,2,1].\n",
    "\n",
    "The next permutation of an array of integers is the next lexicographically greater\n",
    "permutation of its integer. More formally, if all the permutations of the array are\n",
    "sorted in one container according to their lexicographical order, then the next\n",
    "permutation of that array is the permutation that follows it in the sorted container.\n",
    "\n",
    "If such an arrangement is not possible, the array must be rearranged as the\n",
    "lowest possible order (i.e., sorted in ascending order).\n",
    "\n",
    "● For example, the next permutation of arr = [1,2,3] is [1,3,2].\n",
    "● Similarly, the next permutation of arr = [2,3,1] is [3,1,2].\n",
    "● While the next permutation of arr = [3,2,1] is [1,2,3] because [3,2,1] does not\n",
    "have a lexicographical larger rearrangement.\n",
    "\n",
    "Given an array of integers nums, find the next permutation of nums.\n",
    "The replacement must be in place and use only constant extra memory.\n",
    "\n",
    "</aside>"
   ]
  },
  {
   "cell_type": "code",
   "execution_count": 6,
   "id": "1c63e866",
   "metadata": {},
   "outputs": [],
   "source": [
    "def nextPermutation(nums):\n",
    "    n = len(nums)\n",
    "\n",
    "    # Find the first pair of adjacent elements where nums[i] < nums[i+1]\n",
    "    i = n - 2\n",
    "    while i >= 0 and nums[i] >= nums[i+1]:\n",
    "        i -= 1\n",
    "\n",
    "    if i >= 0:\n",
    "        # Find the next greater element after nums[i]\n",
    "        j = n - 1\n",
    "        while j >= 0 and nums[j] <= nums[i]:\n",
    "            j -= 1\n",
    "\n",
    "        # Swap nums[i] and nums[j]\n",
    "        nums[i], nums[j] = nums[j], nums[i]\n",
    "\n",
    "    # Reverse the elements from index i+1 to the end\n",
    "    left = i + 1\n",
    "    right = n - 1\n",
    "    while left < right:\n",
    "        nums[left], nums[right] = nums[right], nums[left]\n",
    "        left += 1\n",
    "        right -= 1\n",
    "\n",
    "    return nums\n"
   ]
  },
  {
   "cell_type": "code",
   "execution_count": 7,
   "id": "03531b44",
   "metadata": {},
   "outputs": [
    {
     "name": "stdout",
     "output_type": "stream",
     "text": [
      "[1, 3, 2]\n"
     ]
    }
   ],
   "source": [
    "nums = [1, 2, 3]\n",
    "next_permutation = nextPermutation(nums)\n",
    "print(next_permutation) "
   ]
  },
  {
   "cell_type": "markdown",
   "id": "de81a34c",
   "metadata": {},
   "source": [
    "Question 4\n",
    "Given a sorted array of distinct integers and a target value, return the index if the\n",
    "target is found. If not, return the index where it would be if it were inserted in\n",
    "order.\n",
    "\n",
    "You must write an algorithm with O(log n) runtime complexity.\n",
    "\n",
    "Example 1:\n",
    "Input: nums = [1,3,5,6], target = 5\n",
    "Output: 2"
   ]
  },
  {
   "cell_type": "code",
   "execution_count": 8,
   "id": "cb5f1c8b",
   "metadata": {},
   "outputs": [],
   "source": [
    "def searchInsert(nums, target):\n",
    "    left = 0\n",
    "    right = len(nums) - 1\n",
    "\n",
    "    while left <= right:\n",
    "        mid = (left + right) // 2\n",
    "\n",
    "        if nums[mid] == target:\n",
    "            return mid\n",
    "        elif nums[mid] < target:\n",
    "            left = mid + 1\n",
    "        else:\n",
    "            right = mid - 1\n",
    "\n",
    "    # If the target is not found, return the index where it would be inserted\n",
    "    return left"
   ]
  },
  {
   "cell_type": "code",
   "execution_count": 9,
   "id": "faf50431",
   "metadata": {},
   "outputs": [
    {
     "name": "stdout",
     "output_type": "stream",
     "text": [
      "2\n"
     ]
    }
   ],
   "source": [
    "nums = [1, 3, 5, 6]\n",
    "target = 5\n",
    "index = searchInsert(nums, target)\n",
    "print(index) "
   ]
  },
  {
   "cell_type": "markdown",
   "id": "34a49abe",
   "metadata": {},
   "source": [
    "Question 5\n",
    "You are given a large integer represented as an integer array digits, where each\n",
    "digits[i] is the ith digit of the integer. The digits are ordered from most significant\n",
    "to least significant in left-to-right order. The large integer does not contain any\n",
    "leading 0's.\n",
    "\n",
    "Increment the large integer by one and return the resulting array of digits.\n",
    "\n",
    "Example 1:\n",
    "Input: digits = [1,2,3]\n",
    "Output: [1,2,4]"
   ]
  },
  {
   "cell_type": "code",
   "execution_count": 10,
   "id": "607ede6d",
   "metadata": {},
   "outputs": [],
   "source": [
    "def plusOne(digits):\n",
    "    n = len(digits)\n",
    "    \n",
    "    # Start from the least significant digit\n",
    "    for i in range(n - 1, -1, -1):\n",
    "        if digits[i] < 9:\n",
    "            # If the current digit is less than 9, increment it by one and return the digits\n",
    "            digits[i] += 1\n",
    "            return digits\n",
    "        else:\n",
    "            # If the current digit is 9, set it to 0 and continue to the next digit\n",
    "            digits[i] = 0\n",
    "    \n",
    "    # If all digits are 9, add a new leading digit 1\n",
    "    digits.insert(0, 1)\n",
    "    return digits"
   ]
  },
  {
   "cell_type": "code",
   "execution_count": 11,
   "id": "c2fa7fff",
   "metadata": {},
   "outputs": [
    {
     "name": "stdout",
     "output_type": "stream",
     "text": [
      "[1, 2, 4]\n"
     ]
    }
   ],
   "source": [
    "digits = [1, 2, 3]\n",
    "result = plusOne(digits)\n",
    "print(result)"
   ]
  },
  {
   "cell_type": "markdown",
   "id": "125b5a2a",
   "metadata": {},
   "source": [
    "Question 6\n",
    "Given a non-empty array of integers nums, every element appears twice except\n",
    "for one. Find that single one.\n",
    "\n",
    "You must implement a solution with a linear runtime complexity and use only\n",
    "constant extra space.\n",
    "\n",
    "Example 1:\n",
    "Input: nums = [2,2,1]\n",
    "Output: 1"
   ]
  },
  {
   "cell_type": "code",
   "execution_count": 12,
   "id": "110522ed",
   "metadata": {},
   "outputs": [
    {
     "name": "stdout",
     "output_type": "stream",
     "text": [
      "1\n"
     ]
    }
   ],
   "source": [
    "def singleNumber(nums):\n",
    "    result = 0\n",
    "    for num in nums:\n",
    "        result ^= num\n",
    "    return result\n",
    "\n",
    "nums = [2, 2, 1]\n",
    "result = singleNumber(nums)\n",
    "print(result) "
   ]
  },
  {
   "cell_type": "markdown",
   "id": "3d2d4d9d",
   "metadata": {},
   "source": [
    "Question 7\n",
    "You are given an inclusive range [lower, upper] and a sorted unique integer array\n",
    "nums, where all elements are within the inclusive range.\n",
    "\n",
    "A number x is considered missing if x is in the range [lower, upper] and x is not in\n",
    "nums.\n",
    "\n",
    "Return the shortest sorted list of ranges that exactly covers all the missing\n",
    "numbers. That is, no element of nums is included in any of the ranges, and each\n",
    "missing number is covered by one of the ranges.\n",
    "\n",
    "Example 1:\n",
    "Input: nums = [0,1,3,50,75], lower = 0, upper = 99\n",
    "Output: [[2,2],[4,49],[51,74],[76,99]]\n",
    "\n",
    "Explanation: The ranges are:\n",
    "[2,2]\n",
    "[4,49]\n",
    "[51,74]\n",
    "[76,99]"
   ]
  },
  {
   "cell_type": "code",
   "execution_count": 14,
   "id": "58c110cf",
   "metadata": {},
   "outputs": [],
   "source": [
    "def findMissingRanges(nums, lower, upper):\n",
    "    result = []\n",
    "    start = lower\n",
    "    for num in nums:\n",
    "        if num > start:\n",
    "            end = num - 1\n",
    "            result.append(getRange(start, end))\n",
    "        start = num + 1\n",
    "\n",
    "    # Check for missing numbers after the last element\n",
    "    if start <= upper:\n",
    "        result.append(getRange(start, upper))\n",
    "\n",
    "    return result\n",
    "\n",
    "def getRange(start, end):\n",
    "    if start == end:\n",
    "        return str(start)\n",
    "    else:\n",
    "        return str(start) + \"->\" + str(end)\n"
   ]
  },
  {
   "cell_type": "code",
   "execution_count": 15,
   "id": "4677cf69",
   "metadata": {},
   "outputs": [
    {
     "name": "stdout",
     "output_type": "stream",
     "text": [
      "['2', '4->49', '51->74', '76->99']\n"
     ]
    }
   ],
   "source": [
    "nums = [0, 1, 3, 50, 75]\n",
    "lower = 0\n",
    "upper = 99\n",
    "result = findMissingRanges(nums, lower, upper)\n",
    "print(result) "
   ]
  },
  {
   "cell_type": "markdown",
   "id": "3bfbb1b2",
   "metadata": {},
   "source": [
    " **Question 8**\n",
    "Given an array of meeting time intervals where intervals[i] = [starti, endi],\n",
    "determine if a person could attend all meetings.\n",
    "\n",
    "**Example 1:**\n",
    "Input: intervals = [[0,30],[5,10],[15,20]]\n",
    "Output: fals"
   ]
  },
  {
   "cell_type": "code",
   "execution_count": 16,
   "id": "881f74b6",
   "metadata": {},
   "outputs": [],
   "source": [
    "def canAttendMeetings(intervals):\n",
    "    # Sort the intervals by the start time\n",
    "    intervals.sort(key=lambda x: x[0])\n",
    "\n",
    "    # Check for any overlap\n",
    "    for i in range(1, len(intervals)):\n",
    "        if intervals[i][0] < intervals[i-1][1]:\n",
    "            return False\n",
    "\n",
    "    return True\n"
   ]
  },
  {
   "cell_type": "code",
   "execution_count": 17,
   "id": "4c65560e",
   "metadata": {},
   "outputs": [
    {
     "name": "stdout",
     "output_type": "stream",
     "text": [
      "False\n"
     ]
    }
   ],
   "source": [
    "intervals = [[0, 30], [5, 10], [15, 20]]\n",
    "result = canAttendMeetings(intervals)\n",
    "print(result)"
   ]
  },
  {
   "cell_type": "code",
   "execution_count": null,
   "id": "04ae25a5",
   "metadata": {},
   "outputs": [],
   "source": []
  }
 ],
 "metadata": {
  "kernelspec": {
   "display_name": "Python 3 (ipykernel)",
   "language": "python",
   "name": "python3"
  },
  "language_info": {
   "codemirror_mode": {
    "name": "ipython",
    "version": 3
   },
   "file_extension": ".py",
   "mimetype": "text/x-python",
   "name": "python",
   "nbconvert_exporter": "python",
   "pygments_lexer": "ipython3",
   "version": "3.9.12"
  }
 },
 "nbformat": 4,
 "nbformat_minor": 5
}
