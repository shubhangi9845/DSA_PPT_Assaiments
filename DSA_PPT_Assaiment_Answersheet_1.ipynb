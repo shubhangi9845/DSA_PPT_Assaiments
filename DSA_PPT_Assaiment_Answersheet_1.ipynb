{
 "cells": [
  {
   "cell_type": "markdown",
   "id": "fe781628",
   "metadata": {},
   "source": [
    "\n",
    "Q1. Given an array of integers nums and an integer target, return indices of the two numbers such that they add up to target.\n",
    "\n",
    "You may assume that each input would have exactly one solution, and you may not use the same element twice.\n",
    "\n"
   ]
  },
  {
   "cell_type": "markdown",
   "id": "eba8fc8f",
   "metadata": {},
   "source": [
    "**Example:**\n",
    "Input: nums = [2,7,11,15], target = 9\n",
    "Output0 [0,1]\n",
    "\n",
    "**Explanation:** Because nums[0] + nums[1] == 9, we return [0, 1]["
   ]
  },
  {
   "cell_type": "markdown",
   "id": "ec58c29d",
   "metadata": {},
   "source": [
    "Algoritham:\n",
    "    Create an empty dictionary called num_map to store the numbers and their indices.\n",
    "Iterate over each element num and its corresponding index idx in the nums array.\n",
    "Calculate the complement complement as target - num.\n",
    "Check if the complement exists in the num_map. If it does, return the indices num_map[complement] and idx.\n",
    "If the complement does not exist in the num_map, add the current number and its index to the num_map.\n",
    "If no two numbers are found that add up to the target, return an empty list or None to indicate no solution."
   ]
  },
  {
   "cell_type": "code",
   "execution_count": 1,
   "id": "ab904774",
   "metadata": {},
   "outputs": [],
   "source": [
    "def twoSum(nums, target):\n",
    "    num_map = {}\n",
    "\n",
    "    for idx, num in enumerate(nums):\n",
    "        complement = target - num\n",
    "        if complement in num_map:\n",
    "            return [num_map[complement], idx]\n",
    "        num_map[num] = idx\n",
    "\n",
    "    return [] "
   ]
  },
  {
   "cell_type": "code",
   "execution_count": 2,
   "id": "83919012",
   "metadata": {},
   "outputs": [
    {
     "name": "stdout",
     "output_type": "stream",
     "text": [
      "[0, 1]\n"
     ]
    }
   ],
   "source": [
    "nums = [2, 7, 11, 15]\n",
    "target = 9\n",
    "indices = twoSum(nums, target)\n",
    "print(indices) "
   ]
  },
  {
   "cell_type": "markdown",
   "id": "eb6166ff",
   "metadata": {},
   "source": [
    "\n",
    "Q2. Given an integer array nums and an integer val, remove all occurrences of val in nums in-place. The order of the elements may be changed. Then return the number of elements in nums which are not equal to val.\n",
    "\n",
    "Consider the number of elements in nums which are not equal to val be k, to get accepted, you need to do the following things:\n",
    "\n",
    "- Change the array nums such that the first k elements of nums contain the elements which are not equal to val. The remaining elements of nums are not important as well as the size of nums.\n",
    "- Return k.\n",
    "\n",
    "**Example :**\n",
    "Input: nums = [3,2,2,3], val = 3\n",
    "Output: 2, nums = [2,2,_*,_*]\n",
    "\n",
    "**Explanation:** Your function should return k = 2, with the first two elements of nums being 2. It does not matter what you leave beyond the returned k (hence they are underscores)\n"
   ]
  },
  {
   "cell_type": "markdown",
   "id": "dade6f65",
   "metadata": {},
   "source": [
    "Algoritham:Initialize a variable k to 0, which represents the count of elements not equal to val.\n",
    "Iterate over each element num in nums using a for loop.\n",
    "If num is not equal to val, assign num to nums[k] and increment k by 1.\n",
    "After the loop, return k, which represents the number of elements not equal to val and the new size of nums"
   ]
  },
  {
   "cell_type": "code",
   "execution_count": 3,
   "id": "5491a9e6",
   "metadata": {},
   "outputs": [],
   "source": [
    "def removeElement(nums, val):\n",
    "    k = 0\n",
    "\n",
    "    for num in nums:\n",
    "        if num != val:\n",
    "            nums[k] = num\n",
    "            k += 1\n",
    "\n",
    "    return k\n",
    "\n"
   ]
  },
  {
   "cell_type": "code",
   "execution_count": 4,
   "id": "bdeb56ec",
   "metadata": {},
   "outputs": [
    {
     "name": "stdout",
     "output_type": "stream",
     "text": [
      "2\n",
      "[2, 2, 2, 3]\n"
     ]
    }
   ],
   "source": [
    "# Example \n",
    "nums = [3, 2, 2, 3]\n",
    "val = 3\n",
    "count = removeElement(nums, val)\n",
    "print(count) \n",
    "print(nums)"
   ]
  },
  {
   "cell_type": "markdown",
   "id": "a997fb84",
   "metadata": {},
   "source": [
    "\n",
    "Q3. Given a sorted array of distinct integers and a target value, return the index if the target is found. If not, return the index where it would be if it were inserted in order.\n",
    "\n",
    "You must write an algorithm with O(log n) runtime complexity.\n",
    "\n",
    "**Example 1:**\n",
    "Input: nums = [1,3,5,6], target = 5\n",
    "\n",
    "Output: 2\n",
    "\n",
    "</aside>"
   ]
  },
  {
   "cell_type": "markdown",
   "id": "200ea242",
   "metadata": {},
   "source": [
    "Algoritham:\n",
    "    Initialize two pointers, left and right, to track the boundaries of the search range. Set left to 0 and right to the last index of nums.\n",
    "Iterate while left <= right:\n",
    "Calculate the middle index as mid using the formula: (left + right) // 2.\n",
    "Compare the target value with nums[mid]:\n",
    "If they are equal, return mid as the index where the target is found.\n",
    "If the target is less than nums[mid], update right = mid - 1 to search in the left half of the array.\n",
    "If the target is greater than nums[mid], update left = mid + 1 to search in the right half of the array.\n",
    "If the target is not found after the loop, return left as the index where it would be inserted in order."
   ]
  },
  {
   "cell_type": "code",
   "execution_count": 9,
   "id": "bef12886",
   "metadata": {},
   "outputs": [],
   "source": [
    "def searchInsert(nums, target):\n",
    "    left = 0\n",
    "    right = len(nums) - 1\n",
    "\n",
    "    while left <= right:\n",
    "        mid = (left + right) // 2\n",
    "\n",
    "        if nums[mid] == target:\n",
    "            return mid\n",
    "        elif target < nums[mid]:\n",
    "            right = mid - 1\n",
    "        else:\n",
    "            left = mid + 1\n",
    "\n",
    "    return left"
   ]
  },
  {
   "cell_type": "code",
   "execution_count": 10,
   "id": "672eb32f",
   "metadata": {},
   "outputs": [
    {
     "name": "stdout",
     "output_type": "stream",
     "text": [
      "2\n"
     ]
    }
   ],
   "source": [
    "nums = [1, 3, 5, 6]\n",
    "target = 5\n",
    "index = searchInsert(nums, target)\n",
    "print(index)"
   ]
  },
  {
   "cell_type": "markdown",
   "id": "a6ec7818",
   "metadata": {},
   "source": [
    "\n",
    "Q4.You are given a large integer represented as an integer array digits, where each digits[i] is the ith digit of the integer. The digits are ordered from most significant to least significant in left-to-right order. The large integer does not contain any leading 0's.\n",
    "\n",
    "Increment the large integer by one and return the resulting array of digits.\n",
    "\n",
    "**Example 1:**\n",
    "Input: digits = [1,2,3]\n",
    "Output: [1,2,4]\n",
    "\n",
    "**Explanation:** The array represents the integer 123.\n",
    "\n",
    "Incrementing by one gives 123 + 1 = 124.\n",
    "Thus, the result should be [1,2,4].\n",
    "\n",
    "</aside>"
   ]
  },
  {
   "cell_type": "markdown",
   "id": "206d0a83",
   "metadata": {},
   "source": [
    "Add the carry to the current digit.\n",
    "Update the carry by dividing the sum by 10 \n",
    "Update the current digit by taking the remainder of the sum modulo 10 using the modulo operator %.\n",
    "If the carry becomes 0, there is no need to process further digits, so break out of the loop.\n",
    "After the iteration, if the carry is still 1, it means there was a carry from the leftmost digit. Insert a new digit 1 at the beginning of the array."
   ]
  },
  {
   "cell_type": "code",
   "execution_count": 11,
   "id": "c415d48f",
   "metadata": {},
   "outputs": [],
   "source": [
    "def plusOne(digits):\n",
    "    carry = 1\n",
    "\n",
    "    for i in range(len(digits) - 1, -1, -1):\n",
    "        digits[i] += carry\n",
    "        carry = digits[i] // 10\n",
    "        digits[i] %= 10\n",
    "\n",
    "        if carry == 0:\n",
    "            break\n",
    "\n",
    "    if carry == 1:\n",
    "        digits.insert(0, 1)\n",
    "\n",
    "    return digits"
   ]
  },
  {
   "cell_type": "code",
   "execution_count": 12,
   "id": "2565136a",
   "metadata": {},
   "outputs": [
    {
     "name": "stdout",
     "output_type": "stream",
     "text": [
      "[1, 2, 4]\n"
     ]
    }
   ],
   "source": [
    "digits = [1, 2, 3]\n",
    "result = plusOne(digits)\n",
    "print(result) "
   ]
  },
  {
   "cell_type": "markdown",
   "id": "96d4ec34",
   "metadata": {},
   "source": [
    "Q5.You are given two integer arrays nums1 and nums2, sorted in non-decreasing order, and two integers m and n, representing the number of elements in nums1 and nums2 respectively.\n",
    "\n",
    "Merge nums1 and nums2 into a single array sorted in non-decreasing order.\n",
    "\n",
    "The final sorted array should not be returned by the function, but instead be stored inside the array nums1. To accommodate this, nums1 has a length of m + n, where the first m elements denote the elements that should be merged, and the last n elements are set to 0 and should be ignored. nums2 has a length of n.\n",
    "\n",
    "**Example 1:**\n",
    "Input: nums1 = [1,2,3,0,0,0], m = 3, nums2 = [2,5,6], n = 3\n",
    "Output: [1,2,2,3,5,6]\n",
    "\n",
    "**Explanation:** The arrays we are merging are [1,2,3] and [2,5,6].\n",
    "The result of the merge is [1,2,2,3,5,6] with the underlined elements coming from nums1.\n",
    "\n"
   ]
  },
  {
   "cell_type": "markdown",
   "id": "68925669",
   "metadata": {},
   "source": [
    "Initialize three pointers, p1, p2, and p, to the last valid indices of nums1, nums2, and the merged array nums1 respectively.\n",
    "Compare the elements at nums1[p1] and nums2[p2]. Take the larger element and place it at nums1[p]. Decrement p1 or p2 accordingly based on the larger element chosen.\n",
    "Repeat step 2 until either p1 or p2 becomes less than 0.\n",
    "If there are remaining elements in nums2, copy them to the beginning of nums1 from nums2."
   ]
  },
  {
   "cell_type": "code",
   "execution_count": 19,
   "id": "8f6bbf93",
   "metadata": {},
   "outputs": [],
   "source": [
    "def merge(nums1, m, nums2, n):\n",
    "    p1 = m - 1\n",
    "    p2 = n - 1\n",
    "    p = m + n - 1\n",
    "\n",
    "    while p1 >= 0 and p2 >= 0:\n",
    "        if nums1[p1] > nums2[p2]:\n",
    "            nums1[p] = nums1[p1]\n",
    "            p1 -= 1\n",
    "        else:\n",
    "            nums1[p] = nums2[p2]\n",
    "            p2 -= 1\n",
    "        p -= 1\n",
    "\n",
    "    if p2 >= 0:\n",
    "        nums1[:p2 + 1] = nums2[:p2 + 1]\n",
    "\n",
    "    return nums1"
   ]
  },
  {
   "cell_type": "code",
   "execution_count": 20,
   "id": "7e6d05fa",
   "metadata": {},
   "outputs": [
    {
     "name": "stdout",
     "output_type": "stream",
     "text": [
      "[1, 2, 2, 3, 5, 6]\n"
     ]
    }
   ],
   "source": [
    "nums1 = [1, 2, 3, 0, 0, 0]\n",
    "m = 3\n",
    "nums2 = [2, 5, 6]\n",
    "n = 3\n",
    "result = merge(nums1, m, nums2, n)\n",
    "print(result)"
   ]
  },
  {
   "cell_type": "markdown",
   "id": "187d8267",
   "metadata": {},
   "source": [
    "\n",
    "Q6.Given an integer array nums, return true if any value appears at least twice in the array, and return false if every element is distinct.\n",
    "\n",
    "**Example 1:**\n",
    "Input: nums = [1,2,3,1]\n",
    "\n",
    "Output: true\n"
   ]
  },
  {
   "cell_type": "markdown",
   "id": "aade88a6",
   "metadata": {},
   "source": [
    "Initialize an empty set, seen.\n",
    "Iterate through each element, num, in nums:\n",
    "If num is already in seen, it means it has appeared before, so return True.\n",
    "Otherwise, add num to seen.\n",
    "If the loop completes without returning True, it means every element in nums is distinct, so return False."
   ]
  },
  {
   "cell_type": "code",
   "execution_count": 13,
   "id": "5c538c7c",
   "metadata": {},
   "outputs": [],
   "source": [
    "def containsDuplicate(nums):\n",
    "    seen = set()\n",
    "\n",
    "    for num in nums:\n",
    "        if num in seen:\n",
    "            return True\n",
    "        seen.add(num)\n",
    "\n",
    "    return False\n",
    "\n"
   ]
  },
  {
   "cell_type": "code",
   "execution_count": 14,
   "id": "4e19b1b5",
   "metadata": {},
   "outputs": [
    {
     "name": "stdout",
     "output_type": "stream",
     "text": [
      "True\n"
     ]
    }
   ],
   "source": [
    "nums = [1, 2, 3, 1]\n",
    "result = containsDuplicate(nums)\n",
    "print(result)  "
   ]
  },
  {
   "cell_type": "markdown",
   "id": "5614d6b8",
   "metadata": {},
   "source": [
    "Q7Given an integer array nums, move all 0's to the end of it while maintaining the relative order of the nonzero elements.\n",
    "\n",
    "Note that you must do this in-place without making a copy of the array.\n",
    "\n",
    "**Example 1:**\n",
    "Input: nums = [0,1,0,3,12]\n",
    "Output: [1,3,12,0,0]\n"
   ]
  },
  {
   "cell_type": "markdown",
   "id": "e2625d08",
   "metadata": {},
   "source": [
    "Initialize two pointers, left and right, both pointing to the start of the array.\n",
    "Iterate through the array using the right pointer:\n",
    "If the element at right is non-zero, swap it with the element at left and increment both left and right pointers.\n",
    "If the element at right is zero, increment only the right pointer.\n",
    "After the iteration, all non-zero elements would have been moved to the left side of the array, and the remaining elements to the right side of the array would be zeros."
   ]
  },
  {
   "cell_type": "code",
   "execution_count": 15,
   "id": "2e915150",
   "metadata": {},
   "outputs": [],
   "source": [
    "def moveZeroes(nums):\n",
    "    left = right = 0\n",
    "\n",
    "    while right < len(nums):\n",
    "        if nums[right] != 0:\n",
    "            nums[left], nums[right] = nums[right], nums[left]\n",
    "            left += 1\n",
    "        right += 1\n",
    "\n",
    "    return nums\n",
    "\n"
   ]
  },
  {
   "cell_type": "code",
   "execution_count": 16,
   "id": "4bdab51c",
   "metadata": {},
   "outputs": [
    {
     "name": "stdout",
     "output_type": "stream",
     "text": [
      "[1, 3, 12, 0, 0]\n"
     ]
    }
   ],
   "source": [
    "nums = [0, 1, 0, 3, 12]\n",
    "result = moveZeroes(nums)\n",
    "print(result) "
   ]
  },
  {
   "cell_type": "code",
   "execution_count": null,
   "id": "cc084d5c",
   "metadata": {},
   "outputs": [],
   "source": []
  },
  {
   "cell_type": "markdown",
   "id": "6bf78f69",
   "metadata": {},
   "source": [
    "Q8.You have a set of integers s, which originally contains all the numbers from 1 to n. Unfortunately, due to some error, one of the numbers in s got duplicated to another number in the set, which results in repetition of one number and loss of another number.\n",
    "\n",
    "You are given an integer array nums representing the data status of this set after the error.\n",
    "\n",
    "Find the number that occurs twice and the number that is missing and return them in the form of an array.\n",
    "\n",
    "**Example 1:**\n",
    "Input: nums = [1,2,2,4]\n",
    "Output: [2,3]\n",
    "\n"
   ]
  },
  {
   "cell_type": "markdown",
   "id": "a9700ba6",
   "metadata": {},
   "source": [
    "Initialize an empty set, seen, to store the unique elements.\n",
    "Initialize two variables, duplicate and missing, to track the duplicate number and missing number, respectively.\n",
    "Iterate through each element, num, in nums:\n",
    "If num is already in seen, it means it is the duplicate number. Assign num to the duplicate variable.\n",
    "Add num to seen.\n",
    "Iterate from 1 to the length of nums + 1 (inclusive):\n",
    "If the current number is not in seen, it means it is the missing number. Assign it to the missing variable.\n",
    "Return the array [duplicate, missing]."
   ]
  },
  {
   "cell_type": "code",
   "execution_count": 17,
   "id": "e13b4502",
   "metadata": {},
   "outputs": [],
   "source": [
    "def findErrorNums(nums):\n",
    "    seen = set()\n",
    "    duplicate = missing = 0\n",
    "\n",
    "    for num in nums:\n",
    "        if num in seen:\n",
    "            duplicate = num\n",
    "        seen.add(num)\n",
    "\n",
    "    for num in range(1, len(nums) + 1):\n",
    "        if num not in seen:\n",
    "            missing = num\n",
    "\n",
    "    return [duplicate, missing]\n"
   ]
  },
  {
   "cell_type": "code",
   "execution_count": 18,
   "id": "5cf470ea",
   "metadata": {},
   "outputs": [
    {
     "name": "stdout",
     "output_type": "stream",
     "text": [
      "[2, 3]\n"
     ]
    }
   ],
   "source": [
    "nums = [1, 2, 2, 4]\n",
    "result = findErrorNums(nums)\n",
    "print(result)\n"
   ]
  },
  {
   "cell_type": "code",
   "execution_count": null,
   "id": "e563c5a9",
   "metadata": {},
   "outputs": [],
   "source": []
  }
 ],
 "metadata": {
  "kernelspec": {
   "display_name": "Python 3 (ipykernel)",
   "language": "python",
   "name": "python3"
  },
  "language_info": {
   "codemirror_mode": {
    "name": "ipython",
    "version": 3
   },
   "file_extension": ".py",
   "mimetype": "text/x-python",
   "name": "python",
   "nbconvert_exporter": "python",
   "pygments_lexer": "ipython3",
   "version": "3.9.12"
  }
 },
 "nbformat": 4,
 "nbformat_minor": 5
}
