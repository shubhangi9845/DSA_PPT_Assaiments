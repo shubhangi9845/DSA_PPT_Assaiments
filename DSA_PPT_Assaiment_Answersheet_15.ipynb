{
 "cells": [
  {
   "cell_type": "markdown",
   "id": "9309c869",
   "metadata": {},
   "source": [
    "\n",
    " **Question 1**\n",
    "\n",
    "Given an array **arr[ ]** of size **N** having elements, the task is to find the next greater element for each element of the array in order of their appearance in the array.Next greater element of an element in the array is the nearest element on the right which is greater than the current element.If there does not exist next greater of current element, then next greater element for current element is -1. For example, next greater of the last element is always -1.\n",
    "\n",
    "**Example 1:**\n",
    "Input:\n",
    "N = 4, arr[] = [1 3 2 4]\n",
    "Output:\n",
    "3 4 4 -1\n",
    "Explanation:\n",
    "In the array, the next larger element\n",
    "to 1 is 3 , 3 is 4 , 2 is 4 and for 4 ?\n",
    "since it doesn't exist, it is -1.\n",
    "\n",
    "\n"
   ]
  },
  {
   "cell_type": "code",
   "execution_count": 1,
   "id": "af490028",
   "metadata": {},
   "outputs": [],
   "source": [
    "def find_greater_elements(arr):\n",
    "    n = len(arr)\n",
    "    next_greater = [-1] * n\n",
    "    stack = []\n",
    "\n",
    "    for i in range(n - 1, -1, -1):\n",
    "        while stack and stack[-1] <= arr[i]:\n",
    "            stack.pop()\n",
    "\n",
    "        if stack:\n",
    "            next_greater[i] = stack[-1]\n",
    "\n",
    "        stack.append(arr[i])\n",
    "\n",
    "    return next_greater\n",
    "\n"
   ]
  },
  {
   "cell_type": "code",
   "execution_count": 5,
   "id": "d1a48ab1",
   "metadata": {},
   "outputs": [
    {
     "name": "stdout",
     "output_type": "stream",
     "text": [
      "Next Greater Element for each element:\n",
      "[3, 4, 4, -1]\n"
     ]
    }
   ],
   "source": [
    "arr = [1,3,3,4]\n",
    "result = find_greater_elements(arr)\n",
    "print(result)"
   ]
  },
  {
   "cell_type": "markdown",
   "id": "b0b6af77",
   "metadata": {},
   "source": [
    " **Question 2**\n",
    "\n",
    "Given an array **a** of integers of length **n**, find the nearest smaller number for every element such that the smaller element is on left side.If no small element present on the left print -1.\n",
    "\n",
    "Input: n = 3\n",
    "a = {1, 6, 2}\n",
    "Output: -1 1 1\n",
    "Explaination: There is no number at the\n",
    "left of 1. Smaller number than 6 and 2 is 1."
   ]
  },
  {
   "cell_type": "code",
   "execution_count": 6,
   "id": "3d8e4b4f",
   "metadata": {},
   "outputs": [],
   "source": [
    "def find_smaller_elements(arr):\n",
    "    n = len(arr)\n",
    "    nearest_smaller = [-1] * n\n",
    "    stack = []\n",
    "\n",
    "    for i in range(n):\n",
    "        while stack and stack[-1] >= arr[i]:\n",
    "            stack.pop()\n",
    "\n",
    "        if stack:\n",
    "            nearest_smaller[i] = stack[-1]\n",
    "\n",
    "        stack.append(arr[i])\n",
    "\n",
    "    return nearest_smaller"
   ]
  },
  {
   "cell_type": "code",
   "execution_count": 12,
   "id": "df6d6680",
   "metadata": {},
   "outputs": [
    {
     "name": "stdout",
     "output_type": "stream",
     "text": [
      "[-1, 1, 1]\n"
     ]
    }
   ],
   "source": [
    "n = 3\n",
    "a = [1,6,2]\n",
    "result = find_smaller_elements(a)\n",
    "print(result)"
   ]
  },
  {
   "cell_type": "markdown",
   "id": "6baaab55",
   "metadata": {},
   "source": [
    "Explaination: There is no number at the\n",
    "left of 1. Smaller number than 6 and 2 is 1."
   ]
  },
  {
   "cell_type": "code",
   "execution_count": 14,
   "id": "76b63847",
   "metadata": {},
   "outputs": [
    {
     "name": "stdout",
     "output_type": "stream",
     "text": [
      "[-1, 1, -1, 0, 3, 4]\n"
     ]
    }
   ],
   "source": [
    "n = 6\n",
    "a = [1, 5, 0, 3, 4, 5]\n",
    "result = find_smaller_elements(a)\n",
    "print(result)\n",
    "\n"
   ]
  },
  {
   "cell_type": "markdown",
   "id": "de15f3b6",
   "metadata": {},
   "source": [
    "Explaination: Upto 3 it is easy to see\n",
    "the smaller numbers. But for 4 the smaller\n",
    "numbers are 1, 0 and 3. But among them 3\n",
    "is closest. Similary for 5 it is 4."
   ]
  },
  {
   "cell_type": "markdown",
   "id": "65e49ba2",
   "metadata": {},
   "source": [
    "  **Question 3**\n",
    "\n",
    "Implement a Stack using two queues **q1** and **q2**.\n",
    "\n",
    "**Example 1:**\n",
    "\n",
    "Input:\n",
    "push(2)\n",
    "push(3)\n",
    "pop()\n",
    "push(4)\n",
    "pop()\n",
    "Output:3 4\n",
    "Explanation:\n",
    "push(2) the stack will be {2}\n",
    "push(3) the stack will be {2 3}\n",
    "pop()   poped element will be 3 the\n",
    "        stack will be {2}\n",
    "push(4) the stack will be {2 4}\n",
    "pop()   poped element will be 4\n"
   ]
  },
  {
   "cell_type": "code",
   "execution_count": 16,
   "id": "c1b4dafe",
   "metadata": {},
   "outputs": [],
   "source": [
    "from queue import Queue\n",
    "\n",
    "class Stack:\n",
    "    def __init__(self):\n",
    "        self.q1 = Queue()\n",
    "        self.q2 = Queue()\n",
    "\n",
    "    def push(self, value):\n",
    "        self.q2.put(value)\n",
    "        while not self.q1.empty():\n",
    "            self.q2.put(self.q1.get())\n",
    "        self.q1, self.q2 = self.q2, self.q1\n",
    "\n",
    "    def pop(self):\n",
    "        if self.q1.empty():\n",
    "            return \"Stack is empty\"\n",
    "        return self.q1.get()\n",
    "\n",
    "    def is_empty(self):\n",
    "        return self.q1.empty()"
   ]
  },
  {
   "cell_type": "code",
   "execution_count": 17,
   "id": "4700d78a",
   "metadata": {},
   "outputs": [
    {
     "name": "stdout",
     "output_type": "stream",
     "text": [
      "3\n",
      "4\n"
     ]
    }
   ],
   "source": [
    "stack = Stack()\n",
    "stack.push(2)\n",
    "stack.push(3)\n",
    "print(stack.pop())  \n",
    "stack.push(4)\n",
    "print(stack.pop()) "
   ]
  },
  {
   "cell_type": "markdown",
   "id": "548c9545",
   "metadata": {},
   "source": [
    "Explanation:\n",
    "push(2) the stack will be {2}\n",
    "push(3) the stack will be {2 3}\n",
    "pop()   poped element will be 3 the\n",
    "        stack will be {2}\n",
    "push(4) the stack will be {2 4}\n",
    "pop()   poped element will be 4"
   ]
  },
  {
   "cell_type": "markdown",
   "id": "1aae6ddd",
   "metadata": {},
   "source": [
    " **Question 4**\n",
    "\n",
    "You are given a stack **St**. You have to reverse the stack using recursion.\n",
    "\n",
    "**Example 1:**\n",
    "Input:St = {3,2,1,7,6}\n",
    "Output:{6,7,1,2,3}\n"
   ]
  },
  {
   "cell_type": "code",
   "execution_count": 7,
   "id": "f86253e0",
   "metadata": {},
   "outputs": [],
   "source": [
    "def reverse_stack(stack):\n",
    "    if len(stack) <= 1:\n",
    "        return stack\n",
    "\n",
    "    top_element = stack.pop()\n",
    "    stack = reverse_stack(stack)\n",
    "    stack = insert_at_bottom(stack, top_element)\n",
    "\n",
    "    return stack\n",
    "\n",
    "def insert_at_bottom(stack, element):\n",
    "    if len(stack) == 0:\n",
    "        stack.append(element)\n",
    "    else:\n",
    "        top_element = stack.pop()\n",
    "        stack = insert_at_bottom(stack, element)\n",
    "        stack.append(top_element)\n",
    "\n",
    "    return stack\n"
   ]
  },
  {
   "cell_type": "code",
   "execution_count": 5,
   "id": "8de0fe1c",
   "metadata": {},
   "outputs": [
    {
     "name": "stdout",
     "output_type": "stream",
     "text": [
      "[6, 7, 1, 2, 3]\n"
     ]
    }
   ],
   "source": [
    "st = [3, 2, 1, 7, 6]\n",
    "reversed_stack = reverse_stack(st)\n",
    "print( reversed_stack)"
   ]
  },
  {
   "cell_type": "markdown",
   "id": "d28cc6d8",
   "metadata": {},
   "source": [
    "\n",
    "**Question 5**\n",
    "\n",
    "You are given a string **S**, the task is to reverse the string using stack.\n",
    "\n",
    "**Example 1:**\n",
    "Input: S=\"GeeksforGeeks\"\n",
    "Output: skeeGrofskeeG\n",
    "\n"
   ]
  },
  {
   "cell_type": "code",
   "execution_count": 10,
   "id": "b7673aa1",
   "metadata": {},
   "outputs": [],
   "source": [
    "def reverse_string(string):\n",
    "    stack = []\n",
    "    reversed_string = \"\"\n",
    "\n",
    "    # Push each character onto the stack\n",
    "    for char in string:\n",
    "        stack.append(char)\n",
    "\n",
    "    # Pop characters from the stack to form the reversed string\n",
    "    while stack:\n",
    "        reversed_string += stack.pop()\n",
    "\n",
    "    return reversed_string"
   ]
  },
  {
   "cell_type": "code",
   "execution_count": 11,
   "id": "8eab52c2",
   "metadata": {},
   "outputs": [
    {
     "name": "stdout",
     "output_type": "stream",
     "text": [
      "skeeGrofskeeG\n"
     ]
    }
   ],
   "source": [
    "s = \"GeeksforGeeks\"\n",
    "reversed_string = reverse_string(s)\n",
    "print( reversed_string)"
   ]
  },
  {
   "cell_type": "markdown",
   "id": "11fc060d",
   "metadata": {},
   "source": [
    " **Question 6**\n",
    "\n",
    "Given string **S** representing a postfix expression, the task is to evaluate the expression and find the final value. Operators will only include the basic arithmetic operators like ***, /, + and -**.\n",
    "\n",
    "Example 1:\n",
    "Input: S = \"231*+9-\"\n",
    "Output: -4\n",
    "Explanation:\n",
    "After solving the given expression,\n",
    "we have -4 as result.\n"
   ]
  },
  {
   "cell_type": "code",
   "execution_count": 14,
   "id": "683c93de",
   "metadata": {},
   "outputs": [],
   "source": [
    "def evaluate_postfix(expression):\n",
    "    stack = []\n",
    "\n",
    "    for char in expression:\n",
    "        if char.isdigit():\n",
    "            stack.append(int(char))\n",
    "        else:\n",
    "            operand2 = stack.pop()\n",
    "            operand1 = stack.pop()\n",
    "\n",
    "            if char == '+':\n",
    "                result = operand1 + operand2\n",
    "            elif char == '-':\n",
    "                result = operand1 - operand2\n",
    "            elif char == '*':\n",
    "                result = operand1 * operand2\n",
    "            elif char == '/':\n",
    "                result = operand1 / operand2\n",
    "\n",
    "            stack.append(result)\n",
    "\n",
    "    return stack.pop()"
   ]
  },
  {
   "cell_type": "code",
   "execution_count": 15,
   "id": "a75213ee",
   "metadata": {},
   "outputs": [
    {
     "name": "stdout",
     "output_type": "stream",
     "text": [
      "Final Value: -4\n"
     ]
    }
   ],
   "source": [
    "expression = \"231*+9-\"\n",
    "result = evaluate_postfix(expression)\n",
    "print(\"Final Value:\", result)"
   ]
  },
  {
   "cell_type": "markdown",
   "id": "38ef7235",
   "metadata": {},
   "source": [
    " **Question 7**\n",
    "\n",
    "Design a stack that supports push, pop, top, and retrieving the minimum element in constant time.\n",
    "\n",
    "Implement the `MinStack` class:\n",
    "\n",
    "- `MinStack()` initializes the stack object.\n",
    "- `void push(int val)` pushes the element `val` onto the stack.\n",
    "- `void pop()` removes the element on the top of the stack.\n",
    "- `int top()` gets the top element of the stack.\n",
    "- `int getMin()` retrieves the minimum element in the stack.\n",
    "\n",
    "You must implement a solution with `O(1)` time complexity for each function.\n",
    "\n",
    "**Example 1:**\n",
    "\n",
    "Input\n",
    "[\"MinStack\",\"push\",\"push\",\"push\",\"getMin\",\"pop\",\"top\",\"getMin\"]\n",
    "[[],[-2],[0],[-3],[],[],[],[]]\n",
    "\n",
    "Output\n",
    "[null,null,null,null,-3,null,0,-2]\n",
    "\n",
    "Explanation\n",
    "MinStack minStack = new MinStack();\n",
    "minStack.push(-2);\n",
    "minStack.push(0);\n",
    "minStack.push(-3);\n",
    "minStack.getMin(); // return -3\n",
    "minStack.pop();\n",
    "minStack.top();    // return 0\n",
    "minStack.getMin(); // return -2"
   ]
  },
  {
   "cell_type": "code",
   "execution_count": 17,
   "id": "4ac9adb8",
   "metadata": {},
   "outputs": [],
   "source": [
    "class MinStack:\n",
    "    def __init__(self):\n",
    "        self.stack = []\n",
    "        self.min_stack = []\n",
    "\n",
    "    def push(self, val):\n",
    "        self.stack.append(val)\n",
    "        if not self.min_stack or val <= self.min_stack[-1]:\n",
    "            self.min_stack.append(val)\n",
    "\n",
    "    def pop(self):\n",
    "        if self.stack[-1] == self.min_stack[-1]:\n",
    "            self.min_stack.pop()\n",
    "        self.stack.pop()\n",
    "\n",
    "    def top(self):\n",
    "        return self.stack[-1]\n",
    "\n",
    "    def getMin(self):\n",
    "        return self.min_stack[-1]\n"
   ]
  },
  {
   "cell_type": "code",
   "execution_count": 18,
   "id": "5e198efe",
   "metadata": {},
   "outputs": [
    {
     "name": "stdout",
     "output_type": "stream",
     "text": [
      "-3\n",
      "0\n",
      "-2\n"
     ]
    }
   ],
   "source": [
    "minStack = MinStack()\n",
    "minStack.push(-2)\n",
    "minStack.push(0)\n",
    "minStack.push(-3)\n",
    "print(minStack.getMin())  \n",
    "minStack.pop()\n",
    "print(minStack.top())     \n",
    "print(minStack.getMin()) "
   ]
  },
  {
   "cell_type": "markdown",
   "id": "0aab0f36",
   "metadata": {},
   "source": [
    "Given n non-negative integers representing an elevation map where the width of each bar is 1, compute how much water it can trap after raining."
   ]
  },
  {
   "cell_type": "code",
   "execution_count": 21,
   "id": "805c654b",
   "metadata": {},
   "outputs": [],
   "source": [
    "def trap_water(hight):\n",
    "    left = 0\n",
    "    right = len(hight) - 1\n",
    "    left_max = 0\n",
    "    right_max = 0\n",
    "    total_water = 0\n",
    "\n",
    "    while left <= right:\n",
    "        if hight[left] <= hight[right]:\n",
    "            left_max = max(left_max, hight[left])\n",
    "            total_water += left_max - hight[left]\n",
    "            left += 1\n",
    "        else:\n",
    "            right_max = max(right_max, hight[right])\n",
    "            total_water += right_max - hight[right]\n",
    "            right -= 1\n",
    "\n",
    "    return total_water"
   ]
  },
  {
   "cell_type": "code",
   "execution_count": 22,
   "id": "45ab7fad",
   "metadata": {},
   "outputs": [
    {
     "name": "stdout",
     "output_type": "stream",
     "text": [
      "6\n"
     ]
    }
   ],
   "source": [
    "hight = [0, 1, 0, 2, 1, 0, 1, 3, 2, 1, 2, 1]\n",
    "water_trapped = trap_water(hight)\n",
    "print(water_trapped)\n",
    "\n",
    "\n"
   ]
  },
  {
   "cell_type": "code",
   "execution_count": null,
   "id": "7fd6b931",
   "metadata": {},
   "outputs": [],
   "source": []
  }
 ],
 "metadata": {
  "kernelspec": {
   "display_name": "Python 3 (ipykernel)",
   "language": "python",
   "name": "python3"
  },
  "language_info": {
   "codemirror_mode": {
    "name": "ipython",
    "version": 3
   },
   "file_extension": ".py",
   "mimetype": "text/x-python",
   "name": "python",
   "nbconvert_exporter": "python",
   "pygments_lexer": "ipython3",
   "version": "3.9.12"
  }
 },
 "nbformat": 4,
 "nbformat_minor": 5
}
