{
 "cells": [
  {
   "cell_type": "markdown",
   "id": "434fcae8",
   "metadata": {},
   "source": [
    "First Unique Character in a String\n",
    "\n",
    "Given a string s, find the first non-repeating character in it and return its index. If it does not exist, return -1.\n",
    "\n",
    "Example 1:\n",
    "Input: s = \"leetcode\"\n",
    "Output: 0\n",
    "\n",
    "Example 2:\n",
    "Input: s = \"loveleetcode\"\n",
    "Output: 2\n",
    "\n",
    "Example 3:\n",
    "Input: s = \"aabb\"\n",
    "Output: -1\n",
    "\n",
    "Constraints:\n",
    "a. 1 <= s.length <= 10^5\n",
    "b. s consists of only lowercase English letters."
   ]
  },
  {
   "cell_type": "code",
   "execution_count": 6,
   "id": "57fa8001",
   "metadata": {},
   "outputs": [],
   "source": [
    "def string(s):\n",
    "    count = {}\n",
    "    \n",
    "    # Update count 0f each character\n",
    "    \n",
    "    for i in s :\n",
    "        count[i] = count.get(i,0) + 1\n",
    "        \n",
    "    #check count o each character \n",
    "    \n",
    "    for k, i in enumerate(s):\n",
    "        if count[i] == 1:\n",
    "            return k\n",
    "    \n",
    "    return -1"
   ]
  },
  {
   "cell_type": "code",
   "execution_count": 7,
   "id": "f4027cc7",
   "metadata": {},
   "outputs": [
    {
     "name": "stdout",
     "output_type": "stream",
     "text": [
      "0\n"
     ]
    }
   ],
   "source": [
    "s = \"leetcode\"\n",
    "print(string(s))"
   ]
  },
  {
   "cell_type": "code",
   "execution_count": 8,
   "id": "89eb54e8",
   "metadata": {},
   "outputs": [
    {
     "name": "stdout",
     "output_type": "stream",
     "text": [
      "2\n"
     ]
    }
   ],
   "source": [
    "#test case: 2\n",
    "s = \"loveleetcode\"\n",
    "print(string(s))"
   ]
  },
  {
   "cell_type": "code",
   "execution_count": 9,
   "id": "e2b4cb15",
   "metadata": {},
   "outputs": [
    {
     "name": "stdout",
     "output_type": "stream",
     "text": [
      "-1\n"
     ]
    }
   ],
   "source": [
    "#test case :3\n",
    "s = \"aabb\"\n",
    "print(string(s))"
   ]
  },
  {
   "cell_type": "code",
   "execution_count": null,
   "id": "0558920e",
   "metadata": {},
   "outputs": [],
   "source": []
  }
 ],
 "metadata": {
  "kernelspec": {
   "display_name": "Python 3 (ipykernel)",
   "language": "python",
   "name": "python3"
  },
  "language_info": {
   "codemirror_mode": {
    "name": "ipython",
    "version": 3
   },
   "file_extension": ".py",
   "mimetype": "text/x-python",
   "name": "python",
   "nbconvert_exporter": "python",
   "pygments_lexer": "ipython3",
   "version": "3.9.12"
  }
 },
 "nbformat": 4,
 "nbformat_minor": 5
}
