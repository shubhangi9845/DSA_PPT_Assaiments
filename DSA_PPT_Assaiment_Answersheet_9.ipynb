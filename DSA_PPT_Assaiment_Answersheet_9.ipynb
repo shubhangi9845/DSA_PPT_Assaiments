{
 "cells": [
  {
   "cell_type": "markdown",
   "id": "108d8378",
   "metadata": {},
   "source": [
    "Given an integer `n`, return *`true` if it is a power of two. Otherwise, return `false`*.\n",
    "\n",
    "An integer `n` is a power of two, if there exists an integer `x` such that `n == 2x`.\n",
    "\n",
    "**Example 1:**\n",
    "Input: n = 1 \n",
    "\n",
    "Output: true\n",
    "\n",
    "**Example 2:**\n",
    "Input: n = 16 \n",
    "\n",
    "Output: true"
   ]
  },
  {
   "cell_type": "code",
   "execution_count": 1,
   "id": "85d828a4",
   "metadata": {},
   "outputs": [],
   "source": [
    "def isPowerOfTwo(n):\n",
    "    if n <= 0:\n",
    "        return False\n",
    "\n",
    "    power = 1\n",
    "    while power <= n:\n",
    "        if power == n:\n",
    "            return True\n",
    "        power *= 2\n",
    "\n",
    "    return False"
   ]
  },
  {
   "cell_type": "code",
   "execution_count": 2,
   "id": "4f3e1c17",
   "metadata": {},
   "outputs": [
    {
     "name": "stdout",
     "output_type": "stream",
     "text": [
      "True\n"
     ]
    }
   ],
   "source": [
    "n = 1\n",
    "result = isPowerOfTwo(n)\n",
    "print(result)"
   ]
  },
  {
   "cell_type": "markdown",
   "id": "a1172e06",
   "metadata": {},
   "source": [
    "\n",
    "💡 **Question 2**\n",
    "\n",
    "Given a number n, find the sum of the first natural numbers.\n",
    "\n",
    "**Example 1:**\n",
    "\n",
    "Input: n = 3 \n",
    "\n",
    "Output: 6\n",
    "\n",
    "**Example 2:**\n",
    "\n",
    "Input  : 5 \n",
    "\n",
    "Output : 15\n",
    "\n"
   ]
  },
  {
   "cell_type": "code",
   "execution_count": 5,
   "id": "cbb2a29a",
   "metadata": {},
   "outputs": [],
   "source": [
    "def sumOfNatureNo(n):\n",
    "    sum = n * (n + 1) // 2\n",
    "    return sum"
   ]
  },
  {
   "cell_type": "code",
   "execution_count": 6,
   "id": "5fd9fb45",
   "metadata": {},
   "outputs": [
    {
     "name": "stdout",
     "output_type": "stream",
     "text": [
      "6\n"
     ]
    }
   ],
   "source": [
    "n = 3\n",
    "result = sumOfNatureNo(n)\n",
    "print(result)"
   ]
  },
  {
   "cell_type": "markdown",
   "id": "254031bf",
   "metadata": {},
   "source": [
    "💡 **Question 3**\n",
    "\n",
    "****Given a positive integer, N. Find the factorial of N. \n",
    "\n",
    "**Example 1:**\n",
    "\n",
    "Input: N = 5 \n",
    "\n",
    "Output: 120\n",
    "\n",
    "**Example 2:**\n",
    "\n",
    "Input: N = 4\n",
    "\n",
    "Output: 24\n",
    "\n",
    "</aside>"
   ]
  },
  {
   "cell_type": "code",
   "execution_count": 7,
   "id": "c29e8ff1",
   "metadata": {},
   "outputs": [],
   "source": [
    "def factorial(N):\n",
    "    fact = 1\n",
    "    for i in range(1, N+1):\n",
    "        fact *= i\n",
    "    return fact"
   ]
  },
  {
   "cell_type": "code",
   "execution_count": 8,
   "id": "ae05cb53",
   "metadata": {},
   "outputs": [
    {
     "name": "stdout",
     "output_type": "stream",
     "text": [
      "120\n"
     ]
    }
   ],
   "source": [
    "N = 5\n",
    "result = factorial(N)\n",
    "print(result)"
   ]
  },
  {
   "cell_type": "markdown",
   "id": "5f097810",
   "metadata": {},
   "source": [
    "💡 **Question 4**\n",
    "\n",
    "Given a number N and a power P, the task is to find the exponent of this number raised to the given power, i.e. N^P.\n",
    "\n",
    "**Example 1 :** \n",
    "\n",
    "Input: N = 5, P = 2\n",
    "\n",
    "Output: 25\n",
    "\n",
    "**Example 2 :**\n",
    "Input: N = 2, P = 5\n",
    "\n",
    "Output: 32\n",
    "\n",
    "</aside>"
   ]
  },
  {
   "cell_type": "code",
   "execution_count": 14,
   "id": "61f97ac3",
   "metadata": {},
   "outputs": [],
   "source": [
    "def calculate_exponent(N,P):\n",
    "    result = N**P\n",
    "    return result"
   ]
  },
  {
   "cell_type": "code",
   "execution_count": 15,
   "id": "fbedf0b9",
   "metadata": {},
   "outputs": [
    {
     "name": "stdout",
     "output_type": "stream",
     "text": [
      "25\n"
     ]
    }
   ],
   "source": [
    "N = 5\n",
    "P = 2\n",
    "result = calculate_exponent(N, P)\n",
    "print(result) "
   ]
  },
  {
   "cell_type": "markdown",
   "id": "4829e79c",
   "metadata": {},
   "source": [
    "💡 **Question 5**\n",
    "\n",
    "Given an array of integers **arr**, the task is to find maximum element of that array using recursion.\n",
    "\n",
    "**Example 1:**\n",
    "\n",
    "Input: arr = {1, 4, 3, -5, -4, 8, 6};\n",
    "Output: 8\n",
    "\n",
    "**Example 2:**\n",
    "\n",
    "Input: arr = {1, 4, 45, 6, 10, -8};\n",
    "Output: 45\n",
    "\n",
    "</aside>"
   ]
  },
  {
   "cell_type": "code",
   "execution_count": null,
   "id": "d90406dc",
   "metadata": {},
   "outputs": [],
   "source": [
    "def find_max_element(arr, start, end):\n",
    "    if start == end:\n",
    "        return arr[start]\n",
    "    \n",
    "    mid = (start + end) // 2\n",
    "    max_left = find_max_element(arr, start, mid)\n",
    "    max_right = find_max_element(arr, mid + 1, end)\n",
    "    \n",
    "    return max(max_left, max_right)\n",
    "\n",
    "def find_maximum(arr):\n",
    "    return find_max_element(arr, 0, len(arr) - 1)"
   ]
  },
  {
   "cell_type": "code",
   "execution_count": 22,
   "id": "46ec4783",
   "metadata": {},
   "outputs": [
    {
     "name": "stdout",
     "output_type": "stream",
     "text": [
      "8\n"
     ]
    }
   ],
   "source": [
    "arr = [1, 4, 3, -5, -4, 8, 6]\n",
    "result = find_maximum(arr)\n",
    "print(result)"
   ]
  },
  {
   "cell_type": "markdown",
   "id": "3674e12f",
   "metadata": {},
   "source": [
    "Given first term (a), common difference (d) and a integer N of the Arithmetic Progression series, the task is to find Nth term of the series.\n",
    "\n",
    "**Example 1:**\n",
    "\n",
    "Input : a = 2 d = 1 N = 5\n",
    "Output : 6\n",
    "The 5th term of the series is : 6\n",
    "\n",
    "**Example 2:**\n",
    "\n",
    "Input : a = 5 d = 2 N = 10\n",
    "Output : 23\n",
    "The 10th term of the series is : 23"
   ]
  },
  {
   "cell_type": "markdown",
   "id": "cd6dbd72",
   "metadata": {},
   "source": [
    "nth_term = a+ (N - 1) *d\n",
    "\n",
    " nth term is the nth of the series\n",
    " a is the termof the series\n",
    "d is the commen difference butween consecutive term\n",
    "N is the position of the term"
   ]
  },
  {
   "cell_type": "code",
   "execution_count": 23,
   "id": "868f09a2",
   "metadata": {},
   "outputs": [],
   "source": [
    "def find_nth_term(a, d, N):\n",
    "    nth_term = a + (N - 1) * d\n",
    "    return nth_term"
   ]
  },
  {
   "cell_type": "code",
   "execution_count": 24,
   "id": "5e236792",
   "metadata": {},
   "outputs": [
    {
     "name": "stdout",
     "output_type": "stream",
     "text": [
      "6\n"
     ]
    }
   ],
   "source": [
    "a = 2\n",
    "d = 1\n",
    "N = 5\n",
    "result = find_nth_term(a, d, N)\n",
    "print(result)"
   ]
  },
  {
   "cell_type": "markdown",
   "id": "9895a15a",
   "metadata": {},
   "source": [
    "💡 **Question 7**\n",
    "\n",
    "Given a string S, the task is to write a program to print all permutations of a given string.\n",
    "\n",
    "**Example 1:**\n",
    "\n",
    "***Input:***\n",
    "\n",
    "*S = “ABC”*\n",
    "\n",
    "***Output:***\n",
    "\n",
    "*“ABC”, “ACB”, “BAC”, “BCA”, “CBA”, “CAB”*\n",
    "\n",
    "**Example 2:**\n",
    "\n",
    "***Input:***\n",
    "\n",
    "*S = “XY”*\n",
    "\n",
    "***Output:***\n",
    "\n",
    "*“XY”, “YX”*\n",
    "\n",
    "</aside>"
   ]
  },
  {
   "cell_type": "code",
   "execution_count": 33,
   "id": "d9f382c2",
   "metadata": {},
   "outputs": [],
   "source": [
    "def generate_permutations(S, index, permutations):\n",
    "    if index == len(S):\n",
    "        permutations.append(\"\".join(S))\n",
    "    else:\n",
    "        for i in range(index, len(S)):\n",
    "            S[i], S[index] = S[index], S[i]\n",
    "            generate_permutations(S, index + 1, permutations)\n",
    "            S[i], S[index] = S[index], S[i]\n",
    "\n",
    "def print_permutations(S):\n",
    "    permutations = []\n",
    "    generate_permutations(list(S), 0, permutations)\n",
    "    for permutation in permutations:\n",
    "        print(permutation)\n"
   ]
  },
  {
   "cell_type": "code",
   "execution_count": 34,
   "id": "ceed21c7",
   "metadata": {},
   "outputs": [
    {
     "name": "stdout",
     "output_type": "stream",
     "text": [
      "ABC\n",
      "ACB\n",
      "BAC\n",
      "BCA\n",
      "CBA\n",
      "CAB\n"
     ]
    }
   ],
   "source": [
    "S = \"ABC\"\n",
    "print_permutations(S)"
   ]
  },
  {
   "cell_type": "code",
   "execution_count": 35,
   "id": "b9516c77",
   "metadata": {},
   "outputs": [
    {
     "name": "stdout",
     "output_type": "stream",
     "text": [
      "XY\n",
      "YX\n"
     ]
    }
   ],
   "source": [
    "S = \"XY\"\n",
    "print_permutations(S)"
   ]
  },
  {
   "cell_type": "markdown",
   "id": "190becbf",
   "metadata": {},
   "source": [
    "💡 **Question 8**\n",
    "\n",
    "Given an array, find a product of all array elements.\n",
    "\n",
    "**Example 1:**\n",
    "\n",
    "Input  : arr[] = {1, 2, 3, 4, 5}\n",
    "Output : 120\n",
    "**Example 2:**\n",
    "\n",
    "Input  : arr[] = {1, 6, 3}\n",
    "Output : 18\n",
    "\n",
    "</aside>"
   ]
  },
  {
   "cell_type": "code",
   "execution_count": 36,
   "id": "436dc996",
   "metadata": {},
   "outputs": [],
   "source": [
    "def find_product(arr):\n",
    "    product = 1\n",
    "    for i in arr:\n",
    "        product *= i\n",
    "    return product"
   ]
  },
  {
   "cell_type": "code",
   "execution_count": 37,
   "id": "974f8e23",
   "metadata": {},
   "outputs": [
    {
     "name": "stdout",
     "output_type": "stream",
     "text": [
      "120\n"
     ]
    }
   ],
   "source": [
    "arr = [1, 2, 3, 4, 5]\n",
    "print(find_product(arr)) "
   ]
  },
  {
   "cell_type": "code",
   "execution_count": null,
   "id": "b05eb302",
   "metadata": {},
   "outputs": [],
   "source": []
  }
 ],
 "metadata": {
  "kernelspec": {
   "display_name": "Python 3 (ipykernel)",
   "language": "python",
   "name": "python3"
  },
  "language_info": {
   "codemirror_mode": {
    "name": "ipython",
    "version": 3
   },
   "file_extension": ".py",
   "mimetype": "text/x-python",
   "name": "python",
   "nbconvert_exporter": "python",
   "pygments_lexer": "ipython3",
   "version": "3.9.12"
  }
 },
 "nbformat": 4,
 "nbformat_minor": 5
}
